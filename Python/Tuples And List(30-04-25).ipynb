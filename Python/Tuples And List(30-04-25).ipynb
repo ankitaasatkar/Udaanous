{
 "cells": [
  {
   "cell_type": "markdown",
   "id": "0bf0e644-99ee-497d-b15e-4c87cc842acf",
   "metadata": {},
   "source": [
    "## Tuples"
   ]
  },
  {
   "cell_type": "code",
   "execution_count": 4,
   "id": "3ee3f01e-0fba-4489-9660-4e3d77054ca0",
   "metadata": {},
   "outputs": [
    {
     "name": "stdout",
     "output_type": "stream",
     "text": [
      "('criket', 'Football', 'Tennis', 'Hockey')\n"
     ]
    }
   ],
   "source": [
    "Games =(\"criket\",\"Football\",\"Tennis\",\"Hockey\")\n",
    "print(Games)"
   ]
  },
  {
   "cell_type": "code",
   "execution_count": 6,
   "id": "af16106b-62c1-4914-a083-9528a7261192",
   "metadata": {},
   "outputs": [
    {
     "data": {
      "text/plain": [
       "6"
      ]
     },
     "execution_count": 6,
     "metadata": {},
     "output_type": "execute_result"
    }
   ],
   "source": [
    "nested_tuple = ((1, 2, 3), (4, 5, 6), (7, 8, 9))\n",
    "\n",
    "last_element = nested_tuple[1][2]\n",
    "last_element"
   ]
  },
  {
   "cell_type": "markdown",
   "id": "4e47d3b1-43c3-4913-b6b6-928968f1b4c4",
   "metadata": {},
   "source": [
    "## Tuples Slicing"
   ]
  },
  {
   "cell_type": "code",
   "execution_count": 24,
   "id": "4152e393-2037-44b2-8366-1dd51531f754",
   "metadata": {},
   "outputs": [
    {
     "name": "stdout",
     "output_type": "stream",
     "text": [
      "(20, 30, 40)\n"
     ]
    }
   ],
   "source": [
    "Numbers =(10,20,30,40,50,80)\n",
    "Slice_Result =Numbers [1:4]\n",
    "print(Slice_Result)"
   ]
  },
  {
   "cell_type": "markdown",
   "id": "ab676f42-6385-49a9-b8d5-8a48dd026b46",
   "metadata": {},
   "source": [
    "## Nested Tuple Slicing"
   ]
  },
  {
   "cell_type": "raw",
   "id": "a3a80728-2420-4bf1-aaec-e2d76a4bb186",
   "metadata": {},
   "source": [
    " Nested tupes"
   ]
  },
  {
   "cell_type": "code",
   "execution_count": 28,
   "id": "525fadce-b8bd-46dc-963b-780797eb9eec",
   "metadata": {},
   "outputs": [
    {
     "name": "stdout",
     "output_type": "stream",
     "text": [
      "(10, 20, 30)\n",
      "('x', 'y', 'z')\n"
     ]
    }
   ],
   "source": [
    "Nested = ((\"Apples\",\"Banana\"),(10,20,30),(\"x\",\"y\",\"z\"))\n",
    "print(nested[1])\n",
    "print(nested[2])\n"
   ]
  },
  {
   "cell_type": "raw",
   "id": "d895215b-52a3-443f-91b3-ee76a5b51a40",
   "metadata": {},
   "source": [
    "Slicing a Nested Tuples"
   ]
  },
  {
   "cell_type": "code",
   "execution_count": 46,
   "id": "475f04f2-bb40-4535-a51b-6e843035e925",
   "metadata": {},
   "outputs": [
    {
     "name": "stdout",
     "output_type": "stream",
     "text": [
      "(10, 20)\n",
      "('y', 'z')\n"
     ]
    }
   ],
   "source": [
    "Nested = ((\"Apples\",\"Banana\"),(10,20,30),(\"x\",\"y\",\"z\"))\n",
    "Result1 = Nested[1][0:2]\n",
    "Result2 = Nested[2][1:4]\n",
    "print(Result1)\n",
    "print(Result2)\n"
   ]
  },
  {
   "cell_type": "markdown",
   "id": "65b5771f-53e0-465c-b244-8e39b6af931f",
   "metadata": {},
   "source": [
    "## LIST"
   ]
  },
  {
   "cell_type": "code",
   "execution_count": 110,
   "id": "f148a53f-c051-451a-8b8a-9ad39d442623",
   "metadata": {},
   "outputs": [
    {
     "name": "stdout",
     "output_type": "stream",
     "text": [
      "[1, 2, 3, 4, 5, 6, 7, 8, 9, 10]\n"
     ]
    }
   ],
   "source": [
    "Numbers =[1,2,3,4,5,6,7,8,9,10]\n",
    "print(Numbers)"
   ]
  },
  {
   "cell_type": "markdown",
   "id": "6f831f8d-8467-490a-97e2-b43595fd50b5",
   "metadata": {},
   "source": [
    "## List Forward Slicing"
   ]
  },
  {
   "cell_type": "code",
   "execution_count": 108,
   "id": "938e66ac-8c88-4974-9c61-641095bee775",
   "metadata": {},
   "outputs": [
    {
     "name": "stdout",
     "output_type": "stream",
     "text": [
      "['Yellow', 'Pink']\n"
     ]
    }
   ],
   "source": [
    "Colors = [\"Blue\",\"Red\",\"Yellow\",\"Pink\"]\n",
    "list_Forward_slicing = Colors[2:4]\n",
    "print(list_Forward_slicing)"
   ]
  },
  {
   "cell_type": "markdown",
   "id": "6061e67d-8bbe-45a6-a9f9-a1360e6272dd",
   "metadata": {},
   "source": [
    "## List Backward Slicing"
   ]
  },
  {
   "cell_type": "code",
   "execution_count": 112,
   "id": "ba9d0f90-0987-438e-aeb1-e4252437dc83",
   "metadata": {},
   "outputs": [
    {
     "name": "stdout",
     "output_type": "stream",
     "text": [
      "['criket', 'Football']\n"
     ]
    }
   ],
   "source": [
    "Games =[\"criket\",\"Football\",\"Tennis\",\"Hockey\"]\n",
    "list_backward_slicing = Games[-4:-2]\n",
    "print(list_backward_slicing)"
   ]
  },
  {
   "cell_type": "markdown",
   "id": "b754275d-7d54-46c5-adc3-a7660073cd51",
   "metadata": {},
   "source": [
    "## List Striding"
   ]
  },
  {
   "cell_type": "code",
   "execution_count": 114,
   "id": "1b81f96b-fde5-4e87-9616-0092f4743aca",
   "metadata": {},
   "outputs": [
    {
     "name": "stdout",
     "output_type": "stream",
     "text": [
      "[50, 90]\n"
     ]
    }
   ],
   "source": [
    "Numbers =[50,60,70,80,90,100]\n",
    "Slice_Range = Numbers [0:5:4]\n",
    "print(Slice_Range)"
   ]
  },
  {
   "cell_type": "markdown",
   "id": "a2fa1984-fe42-43f6-b9c3-46c76479687a",
   "metadata": {},
   "source": [
    "## Nested List Slicing"
   ]
  },
  {
   "cell_type": "code",
   "execution_count": 73,
   "id": "c3c6f40b-a78e-4c84-a76f-a63f9648c331",
   "metadata": {},
   "outputs": [
    {
     "name": "stdout",
     "output_type": "stream",
     "text": [
      "['x', 'y', 'z', 'o']\n",
      "[100, 200, 300, 400]\n"
     ]
    }
   ],
   "source": [
    "Nested_list = [[\"Apples\",\"Banana\",\"Mango\"],[100,200,300,400],[\"x\",\"y\",\"z\",\"o\"]]\n",
    "print(Nested_list[2])\n",
    "print(Nested_list[1])"
   ]
  },
  {
   "cell_type": "code",
   "execution_count": 75,
   "id": "65fc8f11-b5ab-4470-bc5e-7f1157509855",
   "metadata": {},
   "outputs": [
    {
     "name": "stdout",
     "output_type": "stream",
     "text": [
      "[20, 30, 40, 50]\n"
     ]
    }
   ],
   "source": [
    "Nested =[[\"Criket\",\"Football\",\"Tennis\",\"Hockey\"],[20,30,40,50,60],[\"x\",\"y\",\"y\"]]\n",
    "slice_Result = Nested[1][0:4]\n",
    "print(slice_Result)\n",
    "         \n"
   ]
  },
  {
   "cell_type": "markdown",
   "id": "e73fc15a-1072-4f49-a505-2067f3d13508",
   "metadata": {},
   "source": [
    "## List Item Add/Remove"
   ]
  },
  {
   "cell_type": "code",
   "execution_count": 98,
   "id": "66dc6cf2-8f37-4147-9933-93e6b9c44d0d",
   "metadata": {},
   "outputs": [
    {
     "name": "stdout",
     "output_type": "stream",
     "text": [
      "[10, 20, 30, 40, 50, 60]\n"
     ]
    }
   ],
   "source": [
    "Numbers = [10,20,30,40,50]\n",
    "Numbers.append (60)\n",
    "print(Numbers)"
   ]
  },
  {
   "cell_type": "code",
   "execution_count": 106,
   "id": "354cc470-305d-4df1-b400-27552b239ccc",
   "metadata": {},
   "outputs": [
    {
     "name": "stdout",
     "output_type": "stream",
     "text": [
      "[10, 30, 40, 50]\n"
     ]
    }
   ],
   "source": [
    "Numbers = [10,20,30,40,50]\n",
    "Numbers.remove(20)\n",
    "print(Numbers)"
   ]
  },
  {
   "cell_type": "code",
   "execution_count": null,
   "id": "f8d9b484-7fc0-4179-a691-7e6f9b2e4aa8",
   "metadata": {},
   "outputs": [],
   "source": []
  }
 ],
 "metadata": {
  "kernelspec": {
   "display_name": "Python 3 (ipykernel)",
   "language": "python",
   "name": "python3"
  },
  "language_info": {
   "codemirror_mode": {
    "name": "ipython",
    "version": 3
   },
   "file_extension": ".py",
   "mimetype": "text/x-python",
   "name": "python",
   "nbconvert_exporter": "python",
   "pygments_lexer": "ipython3",
   "version": "3.12.7"
  }
 },
 "nbformat": 4,
 "nbformat_minor": 5
}
