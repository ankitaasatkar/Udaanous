{
 "cells": [
  {
   "cell_type": "markdown",
   "id": "b773a3d1-f9b3-450a-a858-f741b477ad0b",
   "metadata": {},
   "source": [
    "# Convert a string representing a number into an integer"
   ]
  },
  {
   "cell_type": "code",
   "execution_count": 29,
   "id": "8e5dc2f4-ec20-4907-9413-2394b3337aa4",
   "metadata": {},
   "outputs": [],
   "source": [
    "string_number = \"100\""
   ]
  },
  {
   "cell_type": "code",
   "execution_count": 33,
   "id": "da207c98-14db-4856-ab64-3093f5dcfad3",
   "metadata": {},
   "outputs": [
    {
     "data": {
      "text/plain": [
       "int"
      ]
     },
     "execution_count": 33,
     "metadata": {},
     "output_type": "execute_result"
    }
   ],
   "source": [
    "type(100)"
   ]
  },
  {
   "cell_type": "code",
   "execution_count": 35,
   "id": "43b18dda-3d68-4aeb-9637-7fc6b4e54e4b",
   "metadata": {},
   "outputs": [
    {
     "name": "stdout",
     "output_type": "stream",
     "text": [
      "100 <class 'int'>\n"
     ]
    }
   ],
   "source": [
    "int_number = int(string_number)\n",
    "print(int_number, type(int_number))"
   ]
  },
  {
   "cell_type": "markdown",
   "id": "13565ac1-da1d-417f-a952-5b1b32e39faa",
   "metadata": {},
   "source": [
    " # Convert a float number into a string"
   ]
  },
  {
   "cell_type": "code",
   "execution_count": 8,
   "id": "9748237f-24ff-4a9d-9c6c-0e1e7741c9a5",
   "metadata": {},
   "outputs": [],
   "source": [
    "float_number = 4.14159\n",
    "# Expected output: \"4.14159\" as a string"
   ]
  },
  {
   "cell_type": "code",
   "execution_count": 16,
   "id": "36fd3e6b-79bc-4687-af57-6c8dea6150ae",
   "metadata": {},
   "outputs": [
    {
     "name": "stdout",
     "output_type": "stream",
     "text": [
      "4.14159 <class 'float'>\n"
     ]
    }
   ],
   "source": [
    "str_pi = str(float_number)\n",
    "print(4.14159, type(4.14159))\n"
   ]
  },
  {
   "cell_type": "markdown",
   "id": "8a640988-61ba-4010-8d66-337326399704",
   "metadata": {},
   "source": [
    "#  Convert a boolean value into an integer"
   ]
  },
  {
   "cell_type": "code",
   "execution_count": 18,
   "id": "437a2948-4eb9-4880-a1ac-15a6d3c284c9",
   "metadata": {},
   "outputs": [],
   "source": [
    "is_active = True\n",
    "# Expected output: 1 (True -> 1, False -> 0)"
   ]
  },
  {
   "cell_type": "code",
   "execution_count": 20,
   "id": "be03453c-379c-434c-9a20-4f0dea9a39c2",
   "metadata": {},
   "outputs": [
    {
     "data": {
      "text/plain": [
       "bool"
      ]
     },
     "execution_count": 20,
     "metadata": {},
     "output_type": "execute_result"
    }
   ],
   "source": [
    "type(is_active)"
   ]
  },
  {
   "cell_type": "code",
   "execution_count": 24,
   "id": "fccb9283-7bd9-46c5-ac3e-0d24a74aef9b",
   "metadata": {},
   "outputs": [
    {
     "name": "stdout",
     "output_type": "stream",
     "text": [
      "True <class 'str'>\n"
     ]
    }
   ],
   "source": [
    "str_bool = str(is_active)\n",
    "print(str_bool, type(str_bool))"
   ]
  },
  {
   "cell_type": "code",
   "execution_count": null,
   "id": "b4cd5564-e109-48c0-8362-006eeca072b0",
   "metadata": {},
   "outputs": [],
   "source": []
  }
 ],
 "metadata": {
  "kernelspec": {
   "display_name": "Python 3 (ipykernel)",
   "language": "python",
   "name": "python3"
  },
  "language_info": {
   "codemirror_mode": {
    "name": "ipython",
    "version": 3
   },
   "file_extension": ".py",
   "mimetype": "text/x-python",
   "name": "python",
   "nbconvert_exporter": "python",
   "pygments_lexer": "ipython3",
   "version": "3.12.7"
  }
 },
 "nbformat": 4,
 "nbformat_minor": 5
}
