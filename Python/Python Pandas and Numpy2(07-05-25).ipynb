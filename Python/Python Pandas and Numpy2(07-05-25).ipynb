{
 "cells": [
  {
   "cell_type": "code",
   "execution_count": 376,
   "id": "17786ed7-d518-4683-891a-a8389fc3069b",
   "metadata": {},
   "outputs": [],
   "source": [
    "import pandas as pd\n",
    "import numpy as np\n",
    "from sklearn.impute import SimpleImputer\n"
   ]
  },
  {
   "cell_type": "code",
   "execution_count": 378,
   "id": "2077efc9-30dd-440a-bace-0a19ce1ef792",
   "metadata": {},
   "outputs": [],
   "source": [
    "data = pd.read_csv(r\"C:\\Users\\Chet\\Documents\\Messy data set.csv\")\n"
   ]
  },
  {
   "cell_type": "code",
   "execution_count": 380,
   "id": "9ebec422-cd5d-4b3f-a378-1a9264c85a8a",
   "metadata": {},
   "outputs": [
    {
     "data": {
      "text/html": [
       "<div>\n",
       "<style scoped>\n",
       "    .dataframe tbody tr th:only-of-type {\n",
       "        vertical-align: middle;\n",
       "    }\n",
       "\n",
       "    .dataframe tbody tr th {\n",
       "        vertical-align: top;\n",
       "    }\n",
       "\n",
       "    .dataframe thead th {\n",
       "        text-align: right;\n",
       "    }\n",
       "</style>\n",
       "<table border=\"1\" class=\"dataframe\">\n",
       "  <thead>\n",
       "    <tr style=\"text-align: right;\">\n",
       "      <th></th>\n",
       "      <th>ID</th>\n",
       "      <th>Name</th>\n",
       "      <th>Age</th>\n",
       "      <th>Email</th>\n",
       "      <th>JoinDate</th>\n",
       "      <th>Salary</th>\n",
       "    </tr>\n",
       "  </thead>\n",
       "  <tbody>\n",
       "    <tr>\n",
       "      <th>0</th>\n",
       "      <td>1</td>\n",
       "      <td>Alice</td>\n",
       "      <td>25</td>\n",
       "      <td>alice@example.com</td>\n",
       "      <td>2020-01-01</td>\n",
       "      <td>50000</td>\n",
       "    </tr>\n",
       "    <tr>\n",
       "      <th>1</th>\n",
       "      <td>2</td>\n",
       "      <td>Bob</td>\n",
       "      <td>30</td>\n",
       "      <td>bob@example.com</td>\n",
       "      <td>not a date</td>\n",
       "      <td>60000</td>\n",
       "    </tr>\n",
       "    <tr>\n",
       "      <th>2</th>\n",
       "      <td>2</td>\n",
       "      <td>Bob</td>\n",
       "      <td>30</td>\n",
       "      <td>bob@example.com</td>\n",
       "      <td>2020-02-01</td>\n",
       "      <td>60000</td>\n",
       "    </tr>\n",
       "    <tr>\n",
       "      <th>3</th>\n",
       "      <td>4</td>\n",
       "      <td>Charlie</td>\n",
       "      <td>NaN</td>\n",
       "      <td>charlie@</td>\n",
       "      <td>2020-03-01</td>\n",
       "      <td>70000</td>\n",
       "    </tr>\n",
       "    <tr>\n",
       "      <th>4</th>\n",
       "      <td>5</td>\n",
       "      <td>David</td>\n",
       "      <td>Twenty-two</td>\n",
       "      <td>NaN</td>\n",
       "      <td>2020-04-01</td>\n",
       "      <td>NaN</td>\n",
       "    </tr>\n",
       "    <tr>\n",
       "      <th>5</th>\n",
       "      <td>6</td>\n",
       "      <td>Eve</td>\n",
       "      <td>45</td>\n",
       "      <td>eve@example</td>\n",
       "      <td>2020-05-01</td>\n",
       "      <td>90000</td>\n",
       "    </tr>\n",
       "    <tr>\n",
       "      <th>6</th>\n",
       "      <td>7</td>\n",
       "      <td>Frank</td>\n",
       "      <td>50</td>\n",
       "      <td>frank@@example.com</td>\n",
       "      <td>2020-06-01</td>\n",
       "      <td>100000</td>\n",
       "    </tr>\n",
       "    <tr>\n",
       "      <th>7</th>\n",
       "      <td>8</td>\n",
       "      <td>Grace</td>\n",
       "      <td>55</td>\n",
       "      <td>grace@example.com</td>\n",
       "      <td>2020-07-01</td>\n",
       "      <td>one lakh</td>\n",
       "    </tr>\n",
       "    <tr>\n",
       "      <th>8</th>\n",
       "      <td>nine</td>\n",
       "      <td>Heidi</td>\n",
       "      <td>60</td>\n",
       "      <td>heidi@example.com</td>\n",
       "      <td>2020.08.01</td>\n",
       "      <td>120000</td>\n",
       "    </tr>\n",
       "  </tbody>\n",
       "</table>\n",
       "</div>"
      ],
      "text/plain": [
       "     ID     Name         Age               Email    JoinDate    Salary\n",
       "0     1    Alice          25   alice@example.com  2020-01-01     50000\n",
       "1     2      Bob          30     bob@example.com  not a date     60000\n",
       "2     2      Bob          30     bob@example.com  2020-02-01     60000\n",
       "3     4  Charlie         NaN            charlie@  2020-03-01     70000\n",
       "4     5    David  Twenty-two                 NaN  2020-04-01       NaN\n",
       "5     6      Eve          45         eve@example  2020-05-01     90000\n",
       "6     7    Frank          50  frank@@example.com  2020-06-01    100000\n",
       "7     8    Grace          55   grace@example.com  2020-07-01  one lakh\n",
       "8  nine    Heidi          60   heidi@example.com  2020.08.01    120000"
      ]
     },
     "execution_count": 380,
     "metadata": {},
     "output_type": "execute_result"
    }
   ],
   "source": [
    "data.head(9)"
   ]
  },
  {
   "cell_type": "markdown",
   "id": "0600899a-eda2-4572-8b95-efc21b41c119",
   "metadata": {},
   "source": [
    "####  Identify Missing Values"
   ]
  },
  {
   "cell_type": "code",
   "execution_count": 383,
   "id": "6db67f3a-065d-4b85-aea2-a46b1490275d",
   "metadata": {},
   "outputs": [
    {
     "name": "stdout",
     "output_type": "stream",
     "text": [
      "Missing Data\n",
      "ID          3\n",
      "Name        4\n",
      "Age         4\n",
      "Email       4\n",
      "JoinDate    3\n",
      "Salary      4\n",
      "dtype: int64\n"
     ]
    }
   ],
   "source": [
    "missing_data = data.isnull().sum()\n",
    "print(\"Missing Data\")\n",
    "print(missing_data)\n"
   ]
  },
  {
   "cell_type": "code",
   "execution_count": 385,
   "id": "fe077e70-38d2-4b52-8299-53d2aa59fba3",
   "metadata": {},
   "outputs": [],
   "source": [
    "data = data.replace('Twenty-two',22)"
   ]
  },
  {
   "cell_type": "code",
   "execution_count": 387,
   "id": "0f47d15b-c17f-4bde-aca2-5fcb81a32548",
   "metadata": {},
   "outputs": [],
   "source": [
    "data = data.replace('nine',9)"
   ]
  },
  {
   "cell_type": "code",
   "execution_count": 389,
   "id": "df745306-8000-4dea-b7c7-af8484d57cb3",
   "metadata": {},
   "outputs": [],
   "source": [
    "data = data.replace('one lakh',100000)"
   ]
  },
  {
   "cell_type": "code",
   "execution_count": 391,
   "id": "a84afe39-da73-4710-8a38-901d2c8eb73d",
   "metadata": {},
   "outputs": [],
   "source": [
    "data = data.replace('not a date',\"NaN\")"
   ]
  },
  {
   "cell_type": "code",
   "execution_count": 393,
   "id": "266c5b25-295b-4d09-8f45-b0549d5ccae2",
   "metadata": {},
   "outputs": [],
   "source": [
    "data = data.replace('2020.08.01',\"2020-08-01\")"
   ]
  },
  {
   "cell_type": "code",
   "execution_count": 395,
   "id": "38d4f219-dba3-4698-9367-a5e1ded98cc8",
   "metadata": {},
   "outputs": [
    {
     "data": {
      "text/html": [
       "<div>\n",
       "<style scoped>\n",
       "    .dataframe tbody tr th:only-of-type {\n",
       "        vertical-align: middle;\n",
       "    }\n",
       "\n",
       "    .dataframe tbody tr th {\n",
       "        vertical-align: top;\n",
       "    }\n",
       "\n",
       "    .dataframe thead th {\n",
       "        text-align: right;\n",
       "    }\n",
       "</style>\n",
       "<table border=\"1\" class=\"dataframe\">\n",
       "  <thead>\n",
       "    <tr style=\"text-align: right;\">\n",
       "      <th></th>\n",
       "      <th>ID</th>\n",
       "      <th>Name</th>\n",
       "      <th>Age</th>\n",
       "      <th>Email</th>\n",
       "      <th>JoinDate</th>\n",
       "      <th>Salary</th>\n",
       "    </tr>\n",
       "  </thead>\n",
       "  <tbody>\n",
       "    <tr>\n",
       "      <th>0</th>\n",
       "      <td>1</td>\n",
       "      <td>Alice</td>\n",
       "      <td>25</td>\n",
       "      <td>alice@example.com</td>\n",
       "      <td>2020-01-01</td>\n",
       "      <td>50000</td>\n",
       "    </tr>\n",
       "    <tr>\n",
       "      <th>1</th>\n",
       "      <td>2</td>\n",
       "      <td>Bob</td>\n",
       "      <td>30</td>\n",
       "      <td>bob@example.com</td>\n",
       "      <td>NaN</td>\n",
       "      <td>60000</td>\n",
       "    </tr>\n",
       "    <tr>\n",
       "      <th>2</th>\n",
       "      <td>2</td>\n",
       "      <td>Bob</td>\n",
       "      <td>30</td>\n",
       "      <td>bob@example.com</td>\n",
       "      <td>2020-02-01</td>\n",
       "      <td>60000</td>\n",
       "    </tr>\n",
       "    <tr>\n",
       "      <th>3</th>\n",
       "      <td>4</td>\n",
       "      <td>Charlie</td>\n",
       "      <td>NaN</td>\n",
       "      <td>charlie@</td>\n",
       "      <td>2020-03-01</td>\n",
       "      <td>70000</td>\n",
       "    </tr>\n",
       "    <tr>\n",
       "      <th>4</th>\n",
       "      <td>5</td>\n",
       "      <td>David</td>\n",
       "      <td>22</td>\n",
       "      <td>NaN</td>\n",
       "      <td>2020-04-01</td>\n",
       "      <td>NaN</td>\n",
       "    </tr>\n",
       "    <tr>\n",
       "      <th>5</th>\n",
       "      <td>6</td>\n",
       "      <td>Eve</td>\n",
       "      <td>45</td>\n",
       "      <td>eve@example</td>\n",
       "      <td>2020-05-01</td>\n",
       "      <td>90000</td>\n",
       "    </tr>\n",
       "    <tr>\n",
       "      <th>6</th>\n",
       "      <td>7</td>\n",
       "      <td>Frank</td>\n",
       "      <td>50</td>\n",
       "      <td>frank@@example.com</td>\n",
       "      <td>2020-06-01</td>\n",
       "      <td>100000</td>\n",
       "    </tr>\n",
       "    <tr>\n",
       "      <th>7</th>\n",
       "      <td>8</td>\n",
       "      <td>Grace</td>\n",
       "      <td>55</td>\n",
       "      <td>grace@example.com</td>\n",
       "      <td>2020-07-01</td>\n",
       "      <td>100000</td>\n",
       "    </tr>\n",
       "    <tr>\n",
       "      <th>8</th>\n",
       "      <td>9</td>\n",
       "      <td>Heidi</td>\n",
       "      <td>60</td>\n",
       "      <td>heidi@example.com</td>\n",
       "      <td>2020-08-01</td>\n",
       "      <td>120000</td>\n",
       "    </tr>\n",
       "    <tr>\n",
       "      <th>9</th>\n",
       "      <td>10</td>\n",
       "      <td>NaN</td>\n",
       "      <td>65</td>\n",
       "      <td>10@example.com</td>\n",
       "      <td>2020-09-01</td>\n",
       "      <td>130000</td>\n",
       "    </tr>\n",
       "  </tbody>\n",
       "</table>\n",
       "</div>"
      ],
      "text/plain": [
       "   ID     Name  Age               Email    JoinDate  Salary\n",
       "0   1    Alice   25   alice@example.com  2020-01-01   50000\n",
       "1   2      Bob   30     bob@example.com         NaN   60000\n",
       "2   2      Bob   30     bob@example.com  2020-02-01   60000\n",
       "3   4  Charlie  NaN            charlie@  2020-03-01   70000\n",
       "4   5    David   22                 NaN  2020-04-01     NaN\n",
       "5   6      Eve   45         eve@example  2020-05-01   90000\n",
       "6   7    Frank   50  frank@@example.com  2020-06-01  100000\n",
       "7   8    Grace   55   grace@example.com  2020-07-01  100000\n",
       "8   9    Heidi   60   heidi@example.com  2020-08-01  120000\n",
       "9  10      NaN   65      10@example.com  2020-09-01  130000"
      ]
     },
     "execution_count": 395,
     "metadata": {},
     "output_type": "execute_result"
    }
   ],
   "source": [
    "data.head(10)"
   ]
  },
  {
   "cell_type": "markdown",
   "id": "cb092f13-224a-48b3-b4fe-7493c6ae53ca",
   "metadata": {},
   "source": [
    "#### Imputing Missing values"
   ]
  },
  {
   "cell_type": "code",
   "execution_count": 398,
   "id": "7ca13a6f-0b5a-41e3-8607-1ed546f4de8d",
   "metadata": {},
   "outputs": [],
   "source": [
    "from sklearn.impute import SimpleImputer"
   ]
  },
  {
   "cell_type": "code",
   "execution_count": 400,
   "id": "393b2da3-e647-4a70-86c8-dbd5e4075c2f",
   "metadata": {},
   "outputs": [],
   "source": [
    "imputer = SimpleImputer(strategy='most_frequent')\n",
    "imputer.fit(data[['JoinDate']])\n",
    "data[['JoinDate']] = imputer.transform(data[['JoinDate']]) "
   ]
  },
  {
   "cell_type": "code",
   "execution_count": 402,
   "id": "fede4202-cca0-4de3-a55b-74294b4afb55",
   "metadata": {},
   "outputs": [],
   "source": [
    "imputer = SimpleImputer(strategy = 'most_frequent')\n",
    "imputer.fit(data[['Email']])\n",
    "data [['Email']] = imputer.transform(data[['Email']])"
   ]
  },
  {
   "cell_type": "code",
   "execution_count": 403,
   "id": "05a8306f-943c-4e57-a779-59bf1b969311",
   "metadata": {},
   "outputs": [],
   "source": [
    "imputer = SimpleImputer(strategy = 'most_frequent')\n",
    "imputer.fit(data[['Name']])\n",
    "data [['Name']] = imputer.transform(data[['Name']])"
   ]
  },
  {
   "cell_type": "code",
   "execution_count": 406,
   "id": "68e0a465-36ff-483f-ac80-a76158de10e6",
   "metadata": {},
   "outputs": [],
   "source": [
    "data = data.replace('nine',9)"
   ]
  },
  {
   "cell_type": "code",
   "execution_count": 408,
   "id": "5c4d1b8d-b7d6-48dc-83d7-71795b93fe52",
   "metadata": {},
   "outputs": [
    {
     "data": {
      "text/html": [
       "<div>\n",
       "<style scoped>\n",
       "    .dataframe tbody tr th:only-of-type {\n",
       "        vertical-align: middle;\n",
       "    }\n",
       "\n",
       "    .dataframe tbody tr th {\n",
       "        vertical-align: top;\n",
       "    }\n",
       "\n",
       "    .dataframe thead th {\n",
       "        text-align: right;\n",
       "    }\n",
       "</style>\n",
       "<table border=\"1\" class=\"dataframe\">\n",
       "  <thead>\n",
       "    <tr style=\"text-align: right;\">\n",
       "      <th></th>\n",
       "      <th>ID</th>\n",
       "      <th>Name</th>\n",
       "      <th>Age</th>\n",
       "      <th>Email</th>\n",
       "      <th>JoinDate</th>\n",
       "      <th>Salary</th>\n",
       "    </tr>\n",
       "  </thead>\n",
       "  <tbody>\n",
       "    <tr>\n",
       "      <th>0</th>\n",
       "      <td>1</td>\n",
       "      <td>Alice</td>\n",
       "      <td>25</td>\n",
       "      <td>alice@example.com</td>\n",
       "      <td>2020-01-01</td>\n",
       "      <td>50000</td>\n",
       "    </tr>\n",
       "    <tr>\n",
       "      <th>1</th>\n",
       "      <td>2</td>\n",
       "      <td>Bob</td>\n",
       "      <td>30</td>\n",
       "      <td>bob@example.com</td>\n",
       "      <td>NaN</td>\n",
       "      <td>60000</td>\n",
       "    </tr>\n",
       "    <tr>\n",
       "      <th>2</th>\n",
       "      <td>2</td>\n",
       "      <td>Bob</td>\n",
       "      <td>30</td>\n",
       "      <td>bob@example.com</td>\n",
       "      <td>2020-02-01</td>\n",
       "      <td>60000</td>\n",
       "    </tr>\n",
       "    <tr>\n",
       "      <th>3</th>\n",
       "      <td>4</td>\n",
       "      <td>Charlie</td>\n",
       "      <td>NaN</td>\n",
       "      <td>charlie@</td>\n",
       "      <td>2020-03-01</td>\n",
       "      <td>70000</td>\n",
       "    </tr>\n",
       "    <tr>\n",
       "      <th>4</th>\n",
       "      <td>5</td>\n",
       "      <td>David</td>\n",
       "      <td>22</td>\n",
       "      <td>bob@example.com</td>\n",
       "      <td>2020-04-01</td>\n",
       "      <td>NaN</td>\n",
       "    </tr>\n",
       "    <tr>\n",
       "      <th>5</th>\n",
       "      <td>6</td>\n",
       "      <td>Eve</td>\n",
       "      <td>45</td>\n",
       "      <td>eve@example</td>\n",
       "      <td>2020-05-01</td>\n",
       "      <td>90000</td>\n",
       "    </tr>\n",
       "    <tr>\n",
       "      <th>6</th>\n",
       "      <td>7</td>\n",
       "      <td>Frank</td>\n",
       "      <td>50</td>\n",
       "      <td>frank@@example.com</td>\n",
       "      <td>2020-06-01</td>\n",
       "      <td>100000</td>\n",
       "    </tr>\n",
       "    <tr>\n",
       "      <th>7</th>\n",
       "      <td>8</td>\n",
       "      <td>Grace</td>\n",
       "      <td>55</td>\n",
       "      <td>grace@example.com</td>\n",
       "      <td>2020-07-01</td>\n",
       "      <td>100000</td>\n",
       "    </tr>\n",
       "    <tr>\n",
       "      <th>8</th>\n",
       "      <td>9</td>\n",
       "      <td>Heidi</td>\n",
       "      <td>60</td>\n",
       "      <td>heidi@example.com</td>\n",
       "      <td>2020-08-01</td>\n",
       "      <td>120000</td>\n",
       "    </tr>\n",
       "    <tr>\n",
       "      <th>9</th>\n",
       "      <td>10</td>\n",
       "      <td>Bob</td>\n",
       "      <td>65</td>\n",
       "      <td>10@example.com</td>\n",
       "      <td>2020-09-01</td>\n",
       "      <td>130000</td>\n",
       "    </tr>\n",
       "  </tbody>\n",
       "</table>\n",
       "</div>"
      ],
      "text/plain": [
       "   ID     Name  Age               Email    JoinDate  Salary\n",
       "0   1    Alice   25   alice@example.com  2020-01-01   50000\n",
       "1   2      Bob   30     bob@example.com         NaN   60000\n",
       "2   2      Bob   30     bob@example.com  2020-02-01   60000\n",
       "3   4  Charlie  NaN            charlie@  2020-03-01   70000\n",
       "4   5    David   22     bob@example.com  2020-04-01     NaN\n",
       "5   6      Eve   45         eve@example  2020-05-01   90000\n",
       "6   7    Frank   50  frank@@example.com  2020-06-01  100000\n",
       "7   8    Grace   55   grace@example.com  2020-07-01  100000\n",
       "8   9    Heidi   60   heidi@example.com  2020-08-01  120000\n",
       "9  10      Bob   65      10@example.com  2020-09-01  130000"
      ]
     },
     "execution_count": 408,
     "metadata": {},
     "output_type": "execute_result"
    }
   ],
   "source": [
    "data.head(10)"
   ]
  },
  {
   "cell_type": "markdown",
   "id": "f198e5a4-819b-4ebd-a4cd-5e9cfbc69627",
   "metadata": {},
   "source": [
    "#### Checking datatype"
   ]
  },
  {
   "cell_type": "code",
   "execution_count": 411,
   "id": "ac487ee6-c285-44fb-a403-4feb3780caf4",
   "metadata": {},
   "outputs": [
    {
     "name": "stdout",
     "output_type": "stream",
     "text": [
      "ID          object\n",
      "Name        object\n",
      "Age         object\n",
      "Email       object\n",
      "JoinDate    object\n",
      "Salary      object\n",
      "dtype: object\n"
     ]
    }
   ],
   "source": [
    "print(data.dtypes)           \n"
   ]
  },
  {
   "cell_type": "markdown",
   "id": "2a24983b-2148-4ff8-901a-9fa9fe81e762",
   "metadata": {},
   "source": [
    "#### Removing Value"
   ]
  },
  {
   "cell_type": "code",
   "execution_count": 414,
   "id": "7001f4e9-be96-409f-b3f7-1bcd7a63aebf",
   "metadata": {},
   "outputs": [],
   "source": [
    "unique_values = data['Age'].unique()\n"
   ]
  },
  {
   "cell_type": "code",
   "execution_count": 416,
   "id": "c83e5221-3116-4f66-bb48-b648000bc494",
   "metadata": {},
   "outputs": [
    {
     "name": "stdout",
     "output_type": "stream",
     "text": [
      "Unique values in 'Age': ['25' '30' nan 22 '45' '50' '55' '60' '65']\n"
     ]
    }
   ],
   "source": [
    "print(\"Unique values in 'Age':\", unique_values)\n"
   ]
  },
  {
   "cell_type": "markdown",
   "id": "9f4151e6-401e-4c89-94e5-4c845956bbe8",
   "metadata": {},
   "source": [
    "#### Assigning data type"
   ]
  },
  {
   "cell_type": "code",
   "execution_count": 419,
   "id": "a8ccdd7c-219c-4a42-9510-c1533266cf61",
   "metadata": {},
   "outputs": [],
   "source": [
    "data['Age'] = data['Age'].astype(float)"
   ]
  },
  {
   "cell_type": "code",
   "execution_count": 421,
   "id": "84fe4433-02fc-4bdf-bc1a-8dac20364c5a",
   "metadata": {},
   "outputs": [
    {
     "data": {
      "text/html": [
       "<div>\n",
       "<style scoped>\n",
       "    .dataframe tbody tr th:only-of-type {\n",
       "        vertical-align: middle;\n",
       "    }\n",
       "\n",
       "    .dataframe tbody tr th {\n",
       "        vertical-align: top;\n",
       "    }\n",
       "\n",
       "    .dataframe thead th {\n",
       "        text-align: right;\n",
       "    }\n",
       "</style>\n",
       "<table border=\"1\" class=\"dataframe\">\n",
       "  <thead>\n",
       "    <tr style=\"text-align: right;\">\n",
       "      <th></th>\n",
       "      <th>ID</th>\n",
       "      <th>Name</th>\n",
       "      <th>Age</th>\n",
       "      <th>Email</th>\n",
       "      <th>JoinDate</th>\n",
       "      <th>Salary</th>\n",
       "    </tr>\n",
       "  </thead>\n",
       "  <tbody>\n",
       "    <tr>\n",
       "      <th>0</th>\n",
       "      <td>1</td>\n",
       "      <td>Alice</td>\n",
       "      <td>25.0</td>\n",
       "      <td>alice@example.com</td>\n",
       "      <td>2020-01-01</td>\n",
       "      <td>50000</td>\n",
       "    </tr>\n",
       "    <tr>\n",
       "      <th>1</th>\n",
       "      <td>2</td>\n",
       "      <td>Bob</td>\n",
       "      <td>30.0</td>\n",
       "      <td>bob@example.com</td>\n",
       "      <td>NaN</td>\n",
       "      <td>60000</td>\n",
       "    </tr>\n",
       "    <tr>\n",
       "      <th>2</th>\n",
       "      <td>2</td>\n",
       "      <td>Bob</td>\n",
       "      <td>30.0</td>\n",
       "      <td>bob@example.com</td>\n",
       "      <td>2020-02-01</td>\n",
       "      <td>60000</td>\n",
       "    </tr>\n",
       "    <tr>\n",
       "      <th>3</th>\n",
       "      <td>4</td>\n",
       "      <td>Charlie</td>\n",
       "      <td>NaN</td>\n",
       "      <td>charlie@</td>\n",
       "      <td>2020-03-01</td>\n",
       "      <td>70000</td>\n",
       "    </tr>\n",
       "    <tr>\n",
       "      <th>4</th>\n",
       "      <td>5</td>\n",
       "      <td>David</td>\n",
       "      <td>22.0</td>\n",
       "      <td>bob@example.com</td>\n",
       "      <td>2020-04-01</td>\n",
       "      <td>NaN</td>\n",
       "    </tr>\n",
       "  </tbody>\n",
       "</table>\n",
       "</div>"
      ],
      "text/plain": [
       "  ID     Name   Age              Email    JoinDate Salary\n",
       "0  1    Alice  25.0  alice@example.com  2020-01-01  50000\n",
       "1  2      Bob  30.0    bob@example.com         NaN  60000\n",
       "2  2      Bob  30.0    bob@example.com  2020-02-01  60000\n",
       "3  4  Charlie   NaN           charlie@  2020-03-01  70000\n",
       "4  5    David  22.0    bob@example.com  2020-04-01    NaN"
      ]
     },
     "execution_count": 421,
     "metadata": {},
     "output_type": "execute_result"
    }
   ],
   "source": [
    "data.head()"
   ]
  },
  {
   "cell_type": "markdown",
   "id": "ab97fdae-a1c4-4ede-8de1-3a3901dbdd36",
   "metadata": {},
   "source": [
    "####  Dealing with duplicates"
   ]
  },
  {
   "cell_type": "code",
   "execution_count": 424,
   "id": "0c3b3fd3-7bec-4605-88b7-54f8cc936742",
   "metadata": {},
   "outputs": [
    {
     "name": "stdout",
     "output_type": "stream",
     "text": [
      "11   NaN\n",
      "12   NaN\n",
      "Name: Age, dtype: float64\n"
     ]
    }
   ],
   "source": [
    "duplicates = data.duplicated()\n",
    "print(data[duplicates]['Age'])"
   ]
  },
  {
   "cell_type": "code",
   "execution_count": 426,
   "id": "491760a1-8236-4981-9b12-1416809617eb",
   "metadata": {},
   "outputs": [
    {
     "data": {
      "text/html": [
       "<div>\n",
       "<style scoped>\n",
       "    .dataframe tbody tr th:only-of-type {\n",
       "        vertical-align: middle;\n",
       "    }\n",
       "\n",
       "    .dataframe tbody tr th {\n",
       "        vertical-align: top;\n",
       "    }\n",
       "\n",
       "    .dataframe thead th {\n",
       "        text-align: right;\n",
       "    }\n",
       "</style>\n",
       "<table border=\"1\" class=\"dataframe\">\n",
       "  <thead>\n",
       "    <tr style=\"text-align: right;\">\n",
       "      <th></th>\n",
       "      <th>ID</th>\n",
       "      <th>Name</th>\n",
       "      <th>Age</th>\n",
       "      <th>Email</th>\n",
       "      <th>JoinDate</th>\n",
       "      <th>Salary</th>\n",
       "    </tr>\n",
       "  </thead>\n",
       "  <tbody>\n",
       "    <tr>\n",
       "      <th>0</th>\n",
       "      <td>1</td>\n",
       "      <td>Alice</td>\n",
       "      <td>25.0</td>\n",
       "      <td>alice@example.com</td>\n",
       "      <td>2020-01-01</td>\n",
       "      <td>50000</td>\n",
       "    </tr>\n",
       "    <tr>\n",
       "      <th>1</th>\n",
       "      <td>2</td>\n",
       "      <td>Bob</td>\n",
       "      <td>30.0</td>\n",
       "      <td>bob@example.com</td>\n",
       "      <td>NaN</td>\n",
       "      <td>60000</td>\n",
       "    </tr>\n",
       "    <tr>\n",
       "      <th>2</th>\n",
       "      <td>2</td>\n",
       "      <td>Bob</td>\n",
       "      <td>30.0</td>\n",
       "      <td>bob@example.com</td>\n",
       "      <td>2020-02-01</td>\n",
       "      <td>60000</td>\n",
       "    </tr>\n",
       "    <tr>\n",
       "      <th>3</th>\n",
       "      <td>4</td>\n",
       "      <td>Charlie</td>\n",
       "      <td>NaN</td>\n",
       "      <td>charlie@</td>\n",
       "      <td>2020-03-01</td>\n",
       "      <td>70000</td>\n",
       "    </tr>\n",
       "    <tr>\n",
       "      <th>4</th>\n",
       "      <td>5</td>\n",
       "      <td>David</td>\n",
       "      <td>22.0</td>\n",
       "      <td>bob@example.com</td>\n",
       "      <td>2020-04-01</td>\n",
       "      <td>NaN</td>\n",
       "    </tr>\n",
       "    <tr>\n",
       "      <th>5</th>\n",
       "      <td>6</td>\n",
       "      <td>Eve</td>\n",
       "      <td>45.0</td>\n",
       "      <td>eve@example</td>\n",
       "      <td>2020-05-01</td>\n",
       "      <td>90000</td>\n",
       "    </tr>\n",
       "    <tr>\n",
       "      <th>6</th>\n",
       "      <td>7</td>\n",
       "      <td>Frank</td>\n",
       "      <td>50.0</td>\n",
       "      <td>frank@@example.com</td>\n",
       "      <td>2020-06-01</td>\n",
       "      <td>100000</td>\n",
       "    </tr>\n",
       "    <tr>\n",
       "      <th>7</th>\n",
       "      <td>8</td>\n",
       "      <td>Grace</td>\n",
       "      <td>55.0</td>\n",
       "      <td>grace@example.com</td>\n",
       "      <td>2020-07-01</td>\n",
       "      <td>100000</td>\n",
       "    </tr>\n",
       "    <tr>\n",
       "      <th>8</th>\n",
       "      <td>9</td>\n",
       "      <td>Heidi</td>\n",
       "      <td>60.0</td>\n",
       "      <td>heidi@example.com</td>\n",
       "      <td>2020-08-01</td>\n",
       "      <td>120000</td>\n",
       "    </tr>\n",
       "    <tr>\n",
       "      <th>9</th>\n",
       "      <td>10</td>\n",
       "      <td>Bob</td>\n",
       "      <td>65.0</td>\n",
       "      <td>10@example.com</td>\n",
       "      <td>2020-09-01</td>\n",
       "      <td>130000</td>\n",
       "    </tr>\n",
       "    <tr>\n",
       "      <th>10</th>\n",
       "      <td>NaN</td>\n",
       "      <td>Bob</td>\n",
       "      <td>NaN</td>\n",
       "      <td>bob@example.com</td>\n",
       "      <td>2020-01-01</td>\n",
       "      <td>NaN</td>\n",
       "    </tr>\n",
       "  </tbody>\n",
       "</table>\n",
       "</div>"
      ],
      "text/plain": [
       "     ID     Name   Age               Email    JoinDate  Salary\n",
       "0     1    Alice  25.0   alice@example.com  2020-01-01   50000\n",
       "1     2      Bob  30.0     bob@example.com         NaN   60000\n",
       "2     2      Bob  30.0     bob@example.com  2020-02-01   60000\n",
       "3     4  Charlie   NaN            charlie@  2020-03-01   70000\n",
       "4     5    David  22.0     bob@example.com  2020-04-01     NaN\n",
       "5     6      Eve  45.0         eve@example  2020-05-01   90000\n",
       "6     7    Frank  50.0  frank@@example.com  2020-06-01  100000\n",
       "7     8    Grace  55.0   grace@example.com  2020-07-01  100000\n",
       "8     9    Heidi  60.0   heidi@example.com  2020-08-01  120000\n",
       "9    10      Bob  65.0      10@example.com  2020-09-01  130000\n",
       "10  NaN      Bob   NaN     bob@example.com  2020-01-01     NaN"
      ]
     },
     "execution_count": 426,
     "metadata": {},
     "output_type": "execute_result"
    }
   ],
   "source": [
    "data.drop_duplicates(inplace=True)\n",
    "data"
   ]
  },
  {
   "cell_type": "markdown",
   "id": "d7e508d6-35c2-4078-94ca-253981f1228e",
   "metadata": {},
   "source": [
    "####  Sorting data"
   ]
  },
  {
   "cell_type": "code",
   "execution_count": 429,
   "id": "9111a9db-2129-49fd-a507-5490742a160a",
   "metadata": {},
   "outputs": [
    {
     "data": {
      "text/html": [
       "<div>\n",
       "<style scoped>\n",
       "    .dataframe tbody tr th:only-of-type {\n",
       "        vertical-align: middle;\n",
       "    }\n",
       "\n",
       "    .dataframe tbody tr th {\n",
       "        vertical-align: top;\n",
       "    }\n",
       "\n",
       "    .dataframe thead th {\n",
       "        text-align: right;\n",
       "    }\n",
       "</style>\n",
       "<table border=\"1\" class=\"dataframe\">\n",
       "  <thead>\n",
       "    <tr style=\"text-align: right;\">\n",
       "      <th></th>\n",
       "      <th>ID</th>\n",
       "      <th>Name</th>\n",
       "      <th>Age</th>\n",
       "      <th>Email</th>\n",
       "      <th>JoinDate</th>\n",
       "      <th>Salary</th>\n",
       "    </tr>\n",
       "  </thead>\n",
       "  <tbody>\n",
       "    <tr>\n",
       "      <th>9</th>\n",
       "      <td>10</td>\n",
       "      <td>Bob</td>\n",
       "      <td>65.0</td>\n",
       "      <td>10@example.com</td>\n",
       "      <td>2020-09-01</td>\n",
       "      <td>130000</td>\n",
       "    </tr>\n",
       "    <tr>\n",
       "      <th>8</th>\n",
       "      <td>9</td>\n",
       "      <td>Heidi</td>\n",
       "      <td>60.0</td>\n",
       "      <td>heidi@example.com</td>\n",
       "      <td>2020-08-01</td>\n",
       "      <td>120000</td>\n",
       "    </tr>\n",
       "    <tr>\n",
       "      <th>7</th>\n",
       "      <td>8</td>\n",
       "      <td>Grace</td>\n",
       "      <td>55.0</td>\n",
       "      <td>grace@example.com</td>\n",
       "      <td>2020-07-01</td>\n",
       "      <td>100000</td>\n",
       "    </tr>\n",
       "    <tr>\n",
       "      <th>6</th>\n",
       "      <td>7</td>\n",
       "      <td>Frank</td>\n",
       "      <td>50.0</td>\n",
       "      <td>frank@@example.com</td>\n",
       "      <td>2020-06-01</td>\n",
       "      <td>100000</td>\n",
       "    </tr>\n",
       "    <tr>\n",
       "      <th>5</th>\n",
       "      <td>6</td>\n",
       "      <td>Eve</td>\n",
       "      <td>45.0</td>\n",
       "      <td>eve@example</td>\n",
       "      <td>2020-05-01</td>\n",
       "      <td>90000</td>\n",
       "    </tr>\n",
       "    <tr>\n",
       "      <th>1</th>\n",
       "      <td>2</td>\n",
       "      <td>Bob</td>\n",
       "      <td>30.0</td>\n",
       "      <td>bob@example.com</td>\n",
       "      <td>NaN</td>\n",
       "      <td>60000</td>\n",
       "    </tr>\n",
       "    <tr>\n",
       "      <th>2</th>\n",
       "      <td>2</td>\n",
       "      <td>Bob</td>\n",
       "      <td>30.0</td>\n",
       "      <td>bob@example.com</td>\n",
       "      <td>2020-02-01</td>\n",
       "      <td>60000</td>\n",
       "    </tr>\n",
       "    <tr>\n",
       "      <th>0</th>\n",
       "      <td>1</td>\n",
       "      <td>Alice</td>\n",
       "      <td>25.0</td>\n",
       "      <td>alice@example.com</td>\n",
       "      <td>2020-01-01</td>\n",
       "      <td>50000</td>\n",
       "    </tr>\n",
       "    <tr>\n",
       "      <th>4</th>\n",
       "      <td>5</td>\n",
       "      <td>David</td>\n",
       "      <td>22.0</td>\n",
       "      <td>bob@example.com</td>\n",
       "      <td>2020-04-01</td>\n",
       "      <td>NaN</td>\n",
       "    </tr>\n",
       "    <tr>\n",
       "      <th>3</th>\n",
       "      <td>4</td>\n",
       "      <td>Charlie</td>\n",
       "      <td>NaN</td>\n",
       "      <td>charlie@</td>\n",
       "      <td>2020-03-01</td>\n",
       "      <td>70000</td>\n",
       "    </tr>\n",
       "    <tr>\n",
       "      <th>10</th>\n",
       "      <td>NaN</td>\n",
       "      <td>Bob</td>\n",
       "      <td>NaN</td>\n",
       "      <td>bob@example.com</td>\n",
       "      <td>2020-01-01</td>\n",
       "      <td>NaN</td>\n",
       "    </tr>\n",
       "  </tbody>\n",
       "</table>\n",
       "</div>"
      ],
      "text/plain": [
       "     ID     Name   Age               Email    JoinDate  Salary\n",
       "9    10      Bob  65.0      10@example.com  2020-09-01  130000\n",
       "8     9    Heidi  60.0   heidi@example.com  2020-08-01  120000\n",
       "7     8    Grace  55.0   grace@example.com  2020-07-01  100000\n",
       "6     7    Frank  50.0  frank@@example.com  2020-06-01  100000\n",
       "5     6      Eve  45.0         eve@example  2020-05-01   90000\n",
       "1     2      Bob  30.0     bob@example.com         NaN   60000\n",
       "2     2      Bob  30.0     bob@example.com  2020-02-01   60000\n",
       "0     1    Alice  25.0   alice@example.com  2020-01-01   50000\n",
       "4     5    David  22.0     bob@example.com  2020-04-01     NaN\n",
       "3     4  Charlie   NaN            charlie@  2020-03-01   70000\n",
       "10  NaN      Bob   NaN     bob@example.com  2020-01-01     NaN"
      ]
     },
     "execution_count": 429,
     "metadata": {},
     "output_type": "execute_result"
    }
   ],
   "source": [
    "sorted_data = data.sort_values(by='Age', ascending=False)\n",
    "sorted_data\n",
    "\n"
   ]
  },
  {
   "cell_type": "markdown",
   "id": "4b5aa4a0-33fd-40e5-9e3c-9e71a717a094",
   "metadata": {},
   "source": [
    "#### Boolean filtering"
   ]
  },
  {
   "cell_type": "code",
   "execution_count": 432,
   "id": "f4fa9ace-7686-44b7-8e02-bf4ae11264ac",
   "metadata": {},
   "outputs": [
    {
     "data": {
      "text/html": [
       "<div>\n",
       "<style scoped>\n",
       "    .dataframe tbody tr th:only-of-type {\n",
       "        vertical-align: middle;\n",
       "    }\n",
       "\n",
       "    .dataframe tbody tr th {\n",
       "        vertical-align: top;\n",
       "    }\n",
       "\n",
       "    .dataframe thead th {\n",
       "        text-align: right;\n",
       "    }\n",
       "</style>\n",
       "<table border=\"1\" class=\"dataframe\">\n",
       "  <thead>\n",
       "    <tr style=\"text-align: right;\">\n",
       "      <th></th>\n",
       "      <th>ID</th>\n",
       "      <th>Name</th>\n",
       "      <th>Age</th>\n",
       "      <th>Email</th>\n",
       "      <th>JoinDate</th>\n",
       "      <th>Salary</th>\n",
       "    </tr>\n",
       "  </thead>\n",
       "  <tbody>\n",
       "    <tr>\n",
       "      <th>1</th>\n",
       "      <td>2</td>\n",
       "      <td>Bob</td>\n",
       "      <td>30.0</td>\n",
       "      <td>bob@example.com</td>\n",
       "      <td>NaN</td>\n",
       "      <td>60000</td>\n",
       "    </tr>\n",
       "    <tr>\n",
       "      <th>2</th>\n",
       "      <td>2</td>\n",
       "      <td>Bob</td>\n",
       "      <td>30.0</td>\n",
       "      <td>bob@example.com</td>\n",
       "      <td>2020-02-01</td>\n",
       "      <td>60000</td>\n",
       "    </tr>\n",
       "    <tr>\n",
       "      <th>5</th>\n",
       "      <td>6</td>\n",
       "      <td>Eve</td>\n",
       "      <td>45.0</td>\n",
       "      <td>eve@example</td>\n",
       "      <td>2020-05-01</td>\n",
       "      <td>90000</td>\n",
       "    </tr>\n",
       "    <tr>\n",
       "      <th>6</th>\n",
       "      <td>7</td>\n",
       "      <td>Frank</td>\n",
       "      <td>50.0</td>\n",
       "      <td>frank@@example.com</td>\n",
       "      <td>2020-06-01</td>\n",
       "      <td>100000</td>\n",
       "    </tr>\n",
       "    <tr>\n",
       "      <th>7</th>\n",
       "      <td>8</td>\n",
       "      <td>Grace</td>\n",
       "      <td>55.0</td>\n",
       "      <td>grace@example.com</td>\n",
       "      <td>2020-07-01</td>\n",
       "      <td>100000</td>\n",
       "    </tr>\n",
       "    <tr>\n",
       "      <th>8</th>\n",
       "      <td>9</td>\n",
       "      <td>Heidi</td>\n",
       "      <td>60.0</td>\n",
       "      <td>heidi@example.com</td>\n",
       "      <td>2020-08-01</td>\n",
       "      <td>120000</td>\n",
       "    </tr>\n",
       "    <tr>\n",
       "      <th>9</th>\n",
       "      <td>10</td>\n",
       "      <td>Bob</td>\n",
       "      <td>65.0</td>\n",
       "      <td>10@example.com</td>\n",
       "      <td>2020-09-01</td>\n",
       "      <td>130000</td>\n",
       "    </tr>\n",
       "  </tbody>\n",
       "</table>\n",
       "</div>"
      ],
      "text/plain": [
       "   ID   Name   Age               Email    JoinDate  Salary\n",
       "1   2    Bob  30.0     bob@example.com         NaN   60000\n",
       "2   2    Bob  30.0     bob@example.com  2020-02-01   60000\n",
       "5   6    Eve  45.0         eve@example  2020-05-01   90000\n",
       "6   7  Frank  50.0  frank@@example.com  2020-06-01  100000\n",
       "7   8  Grace  55.0   grace@example.com  2020-07-01  100000\n",
       "8   9  Heidi  60.0   heidi@example.com  2020-08-01  120000\n",
       "9  10    Bob  65.0      10@example.com  2020-09-01  130000"
      ]
     },
     "execution_count": 432,
     "metadata": {},
     "output_type": "execute_result"
    }
   ],
   "source": [
    "filtered_data = data[data['Age'] > 25]\n",
    "filtered_data\n"
   ]
  },
  {
   "cell_type": "markdown",
   "id": "87ee2e21-f476-4d57-a083-e00ab22c4b32",
   "metadata": {},
   "source": [
    "#### Is, In"
   ]
  },
  {
   "cell_type": "code",
   "execution_count": 435,
   "id": "59fafb59-214b-448f-9caa-5170794d2d10",
   "metadata": {},
   "outputs": [],
   "source": [
    "data = pd.DataFrame({\n",
    "    'Name': ['Alice', 'Bob', 'Charlie','Frank'],\n",
    "    'Salary': ['High', 'Low', 'Medium','Large']\n",
    "})"
   ]
  },
  {
   "cell_type": "code",
   "execution_count": 437,
   "id": "10384e9d-be62-4b4b-b205-6adb425dce77",
   "metadata": {},
   "outputs": [
    {
     "data": {
      "text/html": [
       "<div>\n",
       "<style scoped>\n",
       "    .dataframe tbody tr th:only-of-type {\n",
       "        vertical-align: middle;\n",
       "    }\n",
       "\n",
       "    .dataframe tbody tr th {\n",
       "        vertical-align: top;\n",
       "    }\n",
       "\n",
       "    .dataframe thead th {\n",
       "        text-align: right;\n",
       "    }\n",
       "</style>\n",
       "<table border=\"1\" class=\"dataframe\">\n",
       "  <thead>\n",
       "    <tr style=\"text-align: right;\">\n",
       "      <th></th>\n",
       "      <th>Name</th>\n",
       "      <th>Salary</th>\n",
       "    </tr>\n",
       "  </thead>\n",
       "  <tbody>\n",
       "    <tr>\n",
       "      <th>0</th>\n",
       "      <td>Alice</td>\n",
       "      <td>High</td>\n",
       "    </tr>\n",
       "    <tr>\n",
       "      <th>2</th>\n",
       "      <td>Charlie</td>\n",
       "      <td>Medium</td>\n",
       "    </tr>\n",
       "    <tr>\n",
       "      <th>3</th>\n",
       "      <td>Frank</td>\n",
       "      <td>Large</td>\n",
       "    </tr>\n",
       "  </tbody>\n",
       "</table>\n",
       "</div>"
      ],
      "text/plain": [
       "      Name  Salary\n",
       "0    Alice    High\n",
       "2  Charlie  Medium\n",
       "3    Frank   Large"
      ]
     },
     "execution_count": 437,
     "metadata": {},
     "output_type": "execute_result"
    }
   ],
   "source": [
    "filtered_data = data[data['Salary'].isin(['High', 'Medium','Large'])]\n",
    "filtered_data"
   ]
  },
  {
   "cell_type": "markdown",
   "id": "ab09f146-93bc-4e96-bdd3-c9766c6e5c69",
   "metadata": {},
   "source": [
    "####  Loc and Iloc"
   ]
  },
  {
   "cell_type": "code",
   "execution_count": 440,
   "id": "e1252ea7-5682-4c5e-9f20-eeef5f507e4d",
   "metadata": {},
   "outputs": [],
   "source": [
    "data = pd.DataFrame({\n",
    "    'Name': ['Alice', 'Bob', 'Alice', 'Charlie', 'Bob'],\n",
    "    'Salary': [50000, 60000, 50000, 70000, 60000]})"
   ]
  },
  {
   "cell_type": "code",
   "execution_count": 442,
   "id": "0586f3c6-b2b5-4911-bea7-3f87bfbae421",
   "metadata": {},
   "outputs": [
    {
     "data": {
      "text/html": [
       "<div>\n",
       "<style scoped>\n",
       "    .dataframe tbody tr th:only-of-type {\n",
       "        vertical-align: middle;\n",
       "    }\n",
       "\n",
       "    .dataframe tbody tr th {\n",
       "        vertical-align: top;\n",
       "    }\n",
       "\n",
       "    .dataframe thead th {\n",
       "        text-align: right;\n",
       "    }\n",
       "</style>\n",
       "<table border=\"1\" class=\"dataframe\">\n",
       "  <thead>\n",
       "    <tr style=\"text-align: right;\">\n",
       "      <th></th>\n",
       "      <th>Name</th>\n",
       "      <th>Salary</th>\n",
       "    </tr>\n",
       "  </thead>\n",
       "  <tbody>\n",
       "    <tr>\n",
       "      <th>1</th>\n",
       "      <td>Bob</td>\n",
       "      <td>60000</td>\n",
       "    </tr>\n",
       "    <tr>\n",
       "      <th>4</th>\n",
       "      <td>Bob</td>\n",
       "      <td>60000</td>\n",
       "    </tr>\n",
       "  </tbody>\n",
       "</table>\n",
       "</div>"
      ],
      "text/plain": [
       "  Name  Salary\n",
       "1  Bob   60000\n",
       "4  Bob   60000"
      ]
     },
     "execution_count": 442,
     "metadata": {},
     "output_type": "execute_result"
    }
   ],
   "source": [
    "data.loc[data['Name'] == 'Bob']\n"
   ]
  },
  {
   "cell_type": "code",
   "execution_count": 444,
   "id": "d6e6f50b-782b-415c-bb58-0c631b5c566c",
   "metadata": {},
   "outputs": [
    {
     "data": {
      "text/html": [
       "<div>\n",
       "<style scoped>\n",
       "    .dataframe tbody tr th:only-of-type {\n",
       "        vertical-align: middle;\n",
       "    }\n",
       "\n",
       "    .dataframe tbody tr th {\n",
       "        vertical-align: top;\n",
       "    }\n",
       "\n",
       "    .dataframe thead th {\n",
       "        text-align: right;\n",
       "    }\n",
       "</style>\n",
       "<table border=\"1\" class=\"dataframe\">\n",
       "  <thead>\n",
       "    <tr style=\"text-align: right;\">\n",
       "      <th></th>\n",
       "      <th>Salary</th>\n",
       "    </tr>\n",
       "  </thead>\n",
       "  <tbody>\n",
       "    <tr>\n",
       "      <th>1</th>\n",
       "      <td>60000</td>\n",
       "    </tr>\n",
       "    <tr>\n",
       "      <th>3</th>\n",
       "      <td>70000</td>\n",
       "    </tr>\n",
       "    <tr>\n",
       "      <th>4</th>\n",
       "      <td>60000</td>\n",
       "    </tr>\n",
       "  </tbody>\n",
       "</table>\n",
       "</div>"
      ],
      "text/plain": [
       "   Salary\n",
       "1   60000\n",
       "3   70000\n",
       "4   60000"
      ]
     },
     "execution_count": 444,
     "metadata": {},
     "output_type": "execute_result"
    }
   ],
   "source": [
    "data.loc[data['Salary'] > 50000, ['Salary']]\n"
   ]
  },
  {
   "cell_type": "code",
   "execution_count": 446,
   "id": "b992c32f-12ff-477a-9bc0-91671ef92282",
   "metadata": {},
   "outputs": [
    {
     "data": {
      "text/html": [
       "<div>\n",
       "<style scoped>\n",
       "    .dataframe tbody tr th:only-of-type {\n",
       "        vertical-align: middle;\n",
       "    }\n",
       "\n",
       "    .dataframe tbody tr th {\n",
       "        vertical-align: top;\n",
       "    }\n",
       "\n",
       "    .dataframe thead th {\n",
       "        text-align: right;\n",
       "    }\n",
       "</style>\n",
       "<table border=\"1\" class=\"dataframe\">\n",
       "  <thead>\n",
       "    <tr style=\"text-align: right;\">\n",
       "      <th></th>\n",
       "      <th>Name</th>\n",
       "      <th>Salary</th>\n",
       "    </tr>\n",
       "  </thead>\n",
       "  <tbody>\n",
       "    <tr>\n",
       "      <th>0</th>\n",
       "      <td>Alice</td>\n",
       "      <td>50000</td>\n",
       "    </tr>\n",
       "    <tr>\n",
       "      <th>1</th>\n",
       "      <td>Bob</td>\n",
       "      <td>60000</td>\n",
       "    </tr>\n",
       "    <tr>\n",
       "      <th>2</th>\n",
       "      <td>Alice</td>\n",
       "      <td>50000</td>\n",
       "    </tr>\n",
       "    <tr>\n",
       "      <th>3</th>\n",
       "      <td>Charlie</td>\n",
       "      <td>70000</td>\n",
       "    </tr>\n",
       "  </tbody>\n",
       "</table>\n",
       "</div>"
      ],
      "text/plain": [
       "      Name  Salary\n",
       "0    Alice   50000\n",
       "1      Bob   60000\n",
       "2    Alice   50000\n",
       "3  Charlie   70000"
      ]
     },
     "execution_count": 446,
     "metadata": {},
     "output_type": "execute_result"
    }
   ],
   "source": [
    " data.iloc[0:4]\n"
   ]
  },
  {
   "cell_type": "code",
   "execution_count": 448,
   "id": "1afc6ba4-328c-434e-a094-92640fd82be7",
   "metadata": {},
   "outputs": [
    {
     "data": {
      "text/html": [
       "<div>\n",
       "<style scoped>\n",
       "    .dataframe tbody tr th:only-of-type {\n",
       "        vertical-align: middle;\n",
       "    }\n",
       "\n",
       "    .dataframe tbody tr th {\n",
       "        vertical-align: top;\n",
       "    }\n",
       "\n",
       "    .dataframe thead th {\n",
       "        text-align: right;\n",
       "    }\n",
       "</style>\n",
       "<table border=\"1\" class=\"dataframe\">\n",
       "  <thead>\n",
       "    <tr style=\"text-align: right;\">\n",
       "      <th></th>\n",
       "      <th>Name</th>\n",
       "      <th>Salary</th>\n",
       "    </tr>\n",
       "  </thead>\n",
       "  <tbody>\n",
       "    <tr>\n",
       "      <th>0</th>\n",
       "      <td>Alice</td>\n",
       "      <td>50000</td>\n",
       "    </tr>\n",
       "    <tr>\n",
       "      <th>1</th>\n",
       "      <td>Bob</td>\n",
       "      <td>60000</td>\n",
       "    </tr>\n",
       "    <tr>\n",
       "      <th>2</th>\n",
       "      <td>Alice</td>\n",
       "      <td>50000</td>\n",
       "    </tr>\n",
       "    <tr>\n",
       "      <th>3</th>\n",
       "      <td>Charlie</td>\n",
       "      <td>70000</td>\n",
       "    </tr>\n",
       "    <tr>\n",
       "      <th>4</th>\n",
       "      <td>Bob</td>\n",
       "      <td>60000</td>\n",
       "    </tr>\n",
       "  </tbody>\n",
       "</table>\n",
       "</div>"
      ],
      "text/plain": [
       "      Name  Salary\n",
       "0    Alice   50000\n",
       "1      Bob   60000\n",
       "2    Alice   50000\n",
       "3  Charlie   70000\n",
       "4      Bob   60000"
      ]
     },
     "execution_count": 448,
     "metadata": {},
     "output_type": "execute_result"
    }
   ],
   "source": [
    "data.iloc[0:4, 1:3]\n",
    "data\n",
    "\n"
   ]
  },
  {
   "cell_type": "markdown",
   "id": "21017d4e-a3f1-4f1a-935c-a579dccf5c47",
   "metadata": {},
   "source": [
    "## values"
   ]
  },
  {
   "cell_type": "code",
   "execution_count": 451,
   "id": "4655dff7-d9ea-48cd-ad88-71039d17cb4d",
   "metadata": {},
   "outputs": [
    {
     "data": {
      "text/plain": [
       "Salary\n",
       "50000    2\n",
       "60000    2\n",
       "70000    1\n",
       "Name: count, dtype: int64"
      ]
     },
     "execution_count": 451,
     "metadata": {},
     "output_type": "execute_result"
    }
   ],
   "source": [
    "data['Salary'].value_counts()"
   ]
  },
  {
   "cell_type": "markdown",
   "id": "ef2428af-dd70-45aa-9f00-fbf6a706e647",
   "metadata": {},
   "source": [
    "## Describe"
   ]
  },
  {
   "cell_type": "code",
   "execution_count": 454,
   "id": "65b90e84-7788-4745-8ead-fb5897d6e275",
   "metadata": {},
   "outputs": [
    {
     "data": {
      "text/html": [
       "<div>\n",
       "<style scoped>\n",
       "    .dataframe tbody tr th:only-of-type {\n",
       "        vertical-align: middle;\n",
       "    }\n",
       "\n",
       "    .dataframe tbody tr th {\n",
       "        vertical-align: top;\n",
       "    }\n",
       "\n",
       "    .dataframe thead th {\n",
       "        text-align: right;\n",
       "    }\n",
       "</style>\n",
       "<table border=\"1\" class=\"dataframe\">\n",
       "  <thead>\n",
       "    <tr style=\"text-align: right;\">\n",
       "      <th></th>\n",
       "      <th>Salary</th>\n",
       "    </tr>\n",
       "  </thead>\n",
       "  <tbody>\n",
       "    <tr>\n",
       "      <th>count</th>\n",
       "      <td>5.000000</td>\n",
       "    </tr>\n",
       "    <tr>\n",
       "      <th>mean</th>\n",
       "      <td>58000.000000</td>\n",
       "    </tr>\n",
       "    <tr>\n",
       "      <th>std</th>\n",
       "      <td>8366.600265</td>\n",
       "    </tr>\n",
       "    <tr>\n",
       "      <th>min</th>\n",
       "      <td>50000.000000</td>\n",
       "    </tr>\n",
       "    <tr>\n",
       "      <th>25%</th>\n",
       "      <td>50000.000000</td>\n",
       "    </tr>\n",
       "    <tr>\n",
       "      <th>50%</th>\n",
       "      <td>60000.000000</td>\n",
       "    </tr>\n",
       "    <tr>\n",
       "      <th>75%</th>\n",
       "      <td>60000.000000</td>\n",
       "    </tr>\n",
       "    <tr>\n",
       "      <th>max</th>\n",
       "      <td>70000.000000</td>\n",
       "    </tr>\n",
       "  </tbody>\n",
       "</table>\n",
       "</div>"
      ],
      "text/plain": [
       "             Salary\n",
       "count      5.000000\n",
       "mean   58000.000000\n",
       "std     8366.600265\n",
       "min    50000.000000\n",
       "25%    50000.000000\n",
       "50%    60000.000000\n",
       "75%    60000.000000\n",
       "max    70000.000000"
      ]
     },
     "execution_count": 454,
     "metadata": {},
     "output_type": "execute_result"
    }
   ],
   "source": [
    "data.describe()"
   ]
  },
  {
   "cell_type": "markdown",
   "id": "866855ed-3599-497c-a1ee-b1682977a47e",
   "metadata": {},
   "source": [
    "## Group by"
   ]
  },
  {
   "cell_type": "code",
   "execution_count": 457,
   "id": "e8f1eeac-6117-4d4e-9928-3750745087fe",
   "metadata": {},
   "outputs": [
    {
     "name": "stdout",
     "output_type": "stream",
     "text": [
      "Name\n",
      "Alice      50000.0\n",
      "Bob        60000.0\n",
      "Charlie    70000.0\n",
      "Name: Salary, dtype: float64\n"
     ]
    }
   ],
   "source": [
    "grouped_var = data.groupby('Name')['Salary'].mean()\n",
    "print(grouped_var)\n"
   ]
  },
  {
   "cell_type": "markdown",
   "id": "2d2a4e5e-beb7-4346-abcf-0e17f015f626",
   "metadata": {},
   "source": [
    "## pivot table"
   ]
  },
  {
   "cell_type": "code",
   "execution_count": 460,
   "id": "b28f6462-4d05-41f4-8912-2a0bbac8e7db",
   "metadata": {},
   "outputs": [
    {
     "name": "stdout",
     "output_type": "stream",
     "text": [
      "          Age   ID\n",
      "Name              \n",
      "Alice    25.0  1.0\n",
      "Bob      35.0  2.0\n",
      "Charlie  40.0  3.0\n",
      "David    35.0  4.0\n",
      "Eve      42.0  5.0\n"
     ]
    }
   ],
   "source": [
    "\n",
    "data = pd.DataFrame({\n",
    "    'ID' : [1,2,3,4,5],\n",
    "    'Age' : [25,35,40,35,42],\n",
    "    'Name': ['Alice', 'Bob', 'Charlie', 'David','Eve']\n",
    "})\n",
    "\n",
    "\n",
    "pivot_table = data.pivot_table(\n",
    "    index='Name',\n",
    "    values=['ID', 'Age'],\n",
    "    aggfunc={'ID': 'mean', 'Age': 'mean'}\n",
    ")\n",
    "\n",
    "print(pivot_table)"
   ]
  },
  {
   "cell_type": "markdown",
   "id": "f0344fe7-7b55-4077-b258-d35201001678",
   "metadata": {},
   "source": [
    "## Cross tab"
   ]
  },
  {
   "cell_type": "code",
   "execution_count": 463,
   "id": "2660b154-44c8-4e6f-9815-db3a128f55cb",
   "metadata": {},
   "outputs": [
    {
     "name": "stdout",
     "output_type": "stream",
     "text": [
      "DATA1         A         B\n",
      "DATA                     \n",
      "1      0.666667  0.333333\n",
      "2      0.500000  0.500000\n",
      "3      1.000000  0.000000\n",
      "All    0.714286  0.285714\n"
     ]
    }
   ],
   "source": [
    "data = pd.DataFrame({\n",
    "    'DATA': ['1', '1', '2', '2', '3', '1', '3'],\n",
    "    'DATA1': ['A', 'B', 'A', 'B', 'A', 'A', 'A']\n",
    "})\n",
    "\n",
    "\n",
    "cross_tab = pd.crosstab(data['DATA'],data['DATA1'],\n",
    "    margins=True,                \n",
    "    normalize='index')           \n",
    "\n",
    "\n",
    "print(cross_tab)"
   ]
  },
  {
   "cell_type": "markdown",
   "id": "394ee20a-8d92-4e9c-88b8-b7d19ab33bcb",
   "metadata": {},
   "source": [
    "####  Combining and condition"
   ]
  },
  {
   "cell_type": "code",
   "execution_count": 472,
   "id": "6b0b7f84-f3f4-4717-a5c9-d0f29c645554",
   "metadata": {},
   "outputs": [],
   "source": [
    "data = pd.DataFrame({\n",
    "    'Name': ['Alice', 'Bob', 'Charlie', 'Diana'],\n",
    "    'Age': [25, 35, 45, 28],\n",
    "    'Salary': [50000, 60000, 70000, 48000]})"
   ]
  },
  {
   "cell_type": "code",
   "execution_count": 474,
   "id": "297b2be3-45ab-4543-9892-26c3f471f715",
   "metadata": {},
   "outputs": [
    {
     "data": {
      "text/html": [
       "<div>\n",
       "<style scoped>\n",
       "    .dataframe tbody tr th:only-of-type {\n",
       "        vertical-align: middle;\n",
       "    }\n",
       "\n",
       "    .dataframe tbody tr th {\n",
       "        vertical-align: top;\n",
       "    }\n",
       "\n",
       "    .dataframe thead th {\n",
       "        text-align: right;\n",
       "    }\n",
       "</style>\n",
       "<table border=\"1\" class=\"dataframe\">\n",
       "  <thead>\n",
       "    <tr style=\"text-align: right;\">\n",
       "      <th></th>\n",
       "      <th>Name</th>\n",
       "      <th>Age</th>\n",
       "      <th>Salary</th>\n",
       "    </tr>\n",
       "  </thead>\n",
       "  <tbody>\n",
       "    <tr>\n",
       "      <th>1</th>\n",
       "      <td>Bob</td>\n",
       "      <td>35</td>\n",
       "      <td>60000</td>\n",
       "    </tr>\n",
       "    <tr>\n",
       "      <th>2</th>\n",
       "      <td>Charlie</td>\n",
       "      <td>45</td>\n",
       "      <td>70000</td>\n",
       "    </tr>\n",
       "    <tr>\n",
       "      <th>3</th>\n",
       "      <td>Diana</td>\n",
       "      <td>28</td>\n",
       "      <td>48000</td>\n",
       "    </tr>\n",
       "  </tbody>\n",
       "</table>\n",
       "</div>"
      ],
      "text/plain": [
       "      Name  Age  Salary\n",
       "1      Bob   35   60000\n",
       "2  Charlie   45   70000\n",
       "3    Diana   28   48000"
      ]
     },
     "execution_count": 474,
     "metadata": {},
     "output_type": "execute_result"
    }
   ],
   "source": [
    "data = data[(data['Age'] > 30) | (data['Salary'] < 50000)]\n",
    "data"
   ]
  },
  {
   "cell_type": "markdown",
   "id": "f0bdd2ac-bbc3-4b4c-8fd2-754a764cf523",
   "metadata": {},
   "source": [
    "## 14 Joining "
   ]
  },
  {
   "cell_type": "code",
   "execution_count": null,
   "id": "235dba9a-5370-4ed9-96dc-b0628c26d9b5",
   "metadata": {},
   "outputs": [],
   "source": [
    "data = pd.DataFrame({\n",
    "    'ID': [1,2,3,4],\n",
    "    'name': ['Alice', 'Bob', 'Charlie', 'Bob'],\n",
    "    'salary': [50000, 60000, 70000, 60000]\n",
    "})"
   ]
  },
  {
   "cell_type": "code",
   "execution_count": null,
   "id": "ddcad1e3-bd33-4c04-9869-d80a69be1406",
   "metadata": {},
   "outputs": [],
   "source": [
    "data2 = pd.DataFrame({\n",
    "    'order_id': [2, 3, 4, 5],\n",
    "    'ID': [1, 2, 3, 4],\n",
    "    'order_date': ['2024-05-01', '2024-05-03', '2024-05-05', '2024-05-07']\n",
    "    \n",
    "})\n"
   ]
  },
  {
   "cell_type": "code",
   "execution_count": null,
   "id": "6776a247-69d5-48e3-a8ed-b49fa97f3eec",
   "metadata": {},
   "outputs": [],
   "source": [
    "joined_data = pd.merge(data,data2, on='ID', how='inner')\n",
    "joined_data.head()"
   ]
  },
  {
   "cell_type": "markdown",
   "id": "5307a446-ede4-4526-b78f-c4a19c8091b6",
   "metadata": {},
   "source": [
    "## 15 concatenating"
   ]
  },
  {
   "cell_type": "code",
   "execution_count": 476,
   "id": "ae3e6f8d-7107-473c-be63-6e82e81a4384",
   "metadata": {},
   "outputs": [],
   "source": [
    "data = pd.DataFrame({\n",
    "    'ID': [1,2,3,4],\n",
    "    'name': ['Alice', 'Bob', 'Charlie', 'Bob'],\n",
    "    'salary': [50000, 60000, 70000, 60000]\n",
    "})"
   ]
  },
  {
   "cell_type": "code",
   "execution_count": 478,
   "id": "da864a11-0112-4f73-a177-8c63010aa94f",
   "metadata": {},
   "outputs": [],
   "source": [
    "data2 = pd.DataFrame({\n",
    "   'ID': [5,6,7,8],\n",
    "   'salary': [50000, 60000, 70000, 60000]\n",
    "    \n",
    "})"
   ]
  },
  {
   "cell_type": "code",
   "execution_count": 480,
   "id": "a0823d22-095c-4fd1-9581-a7c4ef6c66a4",
   "metadata": {},
   "outputs": [
    {
     "data": {
      "text/html": [
       "<div>\n",
       "<style scoped>\n",
       "    .dataframe tbody tr th:only-of-type {\n",
       "        vertical-align: middle;\n",
       "    }\n",
       "\n",
       "    .dataframe tbody tr th {\n",
       "        vertical-align: top;\n",
       "    }\n",
       "\n",
       "    .dataframe thead th {\n",
       "        text-align: right;\n",
       "    }\n",
       "</style>\n",
       "<table border=\"1\" class=\"dataframe\">\n",
       "  <thead>\n",
       "    <tr style=\"text-align: right;\">\n",
       "      <th></th>\n",
       "      <th>ID</th>\n",
       "      <th>name</th>\n",
       "      <th>salary</th>\n",
       "    </tr>\n",
       "  </thead>\n",
       "  <tbody>\n",
       "    <tr>\n",
       "      <th>0</th>\n",
       "      <td>1</td>\n",
       "      <td>Alice</td>\n",
       "      <td>50000</td>\n",
       "    </tr>\n",
       "    <tr>\n",
       "      <th>1</th>\n",
       "      <td>2</td>\n",
       "      <td>Bob</td>\n",
       "      <td>60000</td>\n",
       "    </tr>\n",
       "    <tr>\n",
       "      <th>2</th>\n",
       "      <td>3</td>\n",
       "      <td>Charlie</td>\n",
       "      <td>70000</td>\n",
       "    </tr>\n",
       "    <tr>\n",
       "      <th>3</th>\n",
       "      <td>4</td>\n",
       "      <td>Bob</td>\n",
       "      <td>60000</td>\n",
       "    </tr>\n",
       "    <tr>\n",
       "      <th>0</th>\n",
       "      <td>5</td>\n",
       "      <td>NaN</td>\n",
       "      <td>50000</td>\n",
       "    </tr>\n",
       "  </tbody>\n",
       "</table>\n",
       "</div>"
      ],
      "text/plain": [
       "   ID     name  salary\n",
       "0   1    Alice   50000\n",
       "1   2      Bob   60000\n",
       "2   3  Charlie   70000\n",
       "3   4      Bob   60000\n",
       "0   5      NaN   50000"
      ]
     },
     "execution_count": 480,
     "metadata": {},
     "output_type": "execute_result"
    }
   ],
   "source": [
    "concatenated_data = pd.concat([data, data2])\n",
    "concatenated_data.head()"
   ]
  },
  {
   "cell_type": "code",
   "execution_count": 482,
   "id": "a0f71212-daae-48f3-b51c-049931673401",
   "metadata": {},
   "outputs": [
    {
     "data": {
      "text/html": [
       "<div>\n",
       "<style scoped>\n",
       "    .dataframe tbody tr th:only-of-type {\n",
       "        vertical-align: middle;\n",
       "    }\n",
       "\n",
       "    .dataframe tbody tr th {\n",
       "        vertical-align: top;\n",
       "    }\n",
       "\n",
       "    .dataframe thead th {\n",
       "        text-align: right;\n",
       "    }\n",
       "</style>\n",
       "<table border=\"1\" class=\"dataframe\">\n",
       "  <thead>\n",
       "    <tr style=\"text-align: right;\">\n",
       "      <th></th>\n",
       "      <th>ID</th>\n",
       "      <th>name</th>\n",
       "      <th>salary</th>\n",
       "    </tr>\n",
       "  </thead>\n",
       "  <tbody>\n",
       "    <tr>\n",
       "      <th>0</th>\n",
       "      <td>1</td>\n",
       "      <td>Alice</td>\n",
       "      <td>50000</td>\n",
       "    </tr>\n",
       "    <tr>\n",
       "      <th>1</th>\n",
       "      <td>2</td>\n",
       "      <td>Bob</td>\n",
       "      <td>60000</td>\n",
       "    </tr>\n",
       "    <tr>\n",
       "      <th>2</th>\n",
       "      <td>3</td>\n",
       "      <td>Charlie</td>\n",
       "      <td>70000</td>\n",
       "    </tr>\n",
       "    <tr>\n",
       "      <th>3</th>\n",
       "      <td>4</td>\n",
       "      <td>Bob</td>\n",
       "      <td>60000</td>\n",
       "    </tr>\n",
       "  </tbody>\n",
       "</table>\n",
       "</div>"
      ],
      "text/plain": [
       "   ID     name  salary\n",
       "0   1    Alice   50000\n",
       "1   2      Bob   60000\n",
       "2   3  Charlie   70000\n",
       "3   4      Bob   60000"
      ]
     },
     "execution_count": 482,
     "metadata": {},
     "output_type": "execute_result"
    }
   ],
   "source": [
    "data.head(10)"
   ]
  },
  {
   "cell_type": "code",
   "execution_count": null,
   "id": "9119af56-2d58-4877-a74d-2485003f6469",
   "metadata": {},
   "outputs": [],
   "source": []
  }
 ],
 "metadata": {
  "kernelspec": {
   "display_name": "Python 3 (ipykernel)",
   "language": "python",
   "name": "python3"
  },
  "language_info": {
   "codemirror_mode": {
    "name": "ipython",
    "version": 3
   },
   "file_extension": ".py",
   "mimetype": "text/x-python",
   "name": "python",
   "nbconvert_exporter": "python",
   "pygments_lexer": "ipython3",
   "version": "3.12.7"
  }
 },
 "nbformat": 4,
 "nbformat_minor": 5
}
