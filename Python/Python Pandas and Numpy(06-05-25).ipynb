{
 "cells": [
  {
   "cell_type": "code",
   "execution_count": 378,
   "id": "17786ed7-d518-4683-891a-a8389fc3069b",
   "metadata": {},
   "outputs": [],
   "source": [
    "import pandas as pd\n",
    "import numpy as np\n",
    "from sklearn.impute import SimpleImputer\n"
   ]
  },
  {
   "cell_type": "code",
   "execution_count": 380,
   "id": "2077efc9-30dd-440a-bace-0a19ce1ef792",
   "metadata": {},
   "outputs": [],
   "source": [
    "data = pd.read_csv(r\"C:\\Users\\Chet\\Documents\\Messy data set.csv\")\n"
   ]
  },
  {
   "cell_type": "code",
   "execution_count": 388,
   "id": "9ebec422-cd5d-4b3f-a378-1a9264c85a8a",
   "metadata": {},
   "outputs": [
    {
     "data": {
      "text/html": [
       "<div>\n",
       "<style scoped>\n",
       "    .dataframe tbody tr th:only-of-type {\n",
       "        vertical-align: middle;\n",
       "    }\n",
       "\n",
       "    .dataframe tbody tr th {\n",
       "        vertical-align: top;\n",
       "    }\n",
       "\n",
       "    .dataframe thead th {\n",
       "        text-align: right;\n",
       "    }\n",
       "</style>\n",
       "<table border=\"1\" class=\"dataframe\">\n",
       "  <thead>\n",
       "    <tr style=\"text-align: right;\">\n",
       "      <th></th>\n",
       "      <th>ID</th>\n",
       "      <th>Name</th>\n",
       "      <th>Age</th>\n",
       "      <th>Email</th>\n",
       "      <th>JoinDate</th>\n",
       "      <th>Salary</th>\n",
       "    </tr>\n",
       "  </thead>\n",
       "  <tbody>\n",
       "    <tr>\n",
       "      <th>0</th>\n",
       "      <td>1</td>\n",
       "      <td>Alice</td>\n",
       "      <td>25</td>\n",
       "      <td>alice@example.com</td>\n",
       "      <td>2020-01-01</td>\n",
       "      <td>50000</td>\n",
       "    </tr>\n",
       "    <tr>\n",
       "      <th>1</th>\n",
       "      <td>2</td>\n",
       "      <td>Bob</td>\n",
       "      <td>30</td>\n",
       "      <td>bob@example.com</td>\n",
       "      <td>not a date</td>\n",
       "      <td>60000</td>\n",
       "    </tr>\n",
       "    <tr>\n",
       "      <th>2</th>\n",
       "      <td>2</td>\n",
       "      <td>Bob</td>\n",
       "      <td>30</td>\n",
       "      <td>bob@example.com</td>\n",
       "      <td>2020-02-01</td>\n",
       "      <td>60000</td>\n",
       "    </tr>\n",
       "    <tr>\n",
       "      <th>3</th>\n",
       "      <td>4</td>\n",
       "      <td>Charlie</td>\n",
       "      <td>NaN</td>\n",
       "      <td>charlie@</td>\n",
       "      <td>2020-03-01</td>\n",
       "      <td>70000</td>\n",
       "    </tr>\n",
       "    <tr>\n",
       "      <th>4</th>\n",
       "      <td>5</td>\n",
       "      <td>David</td>\n",
       "      <td>Twenty-two</td>\n",
       "      <td>NaN</td>\n",
       "      <td>2020-04-01</td>\n",
       "      <td>NaN</td>\n",
       "    </tr>\n",
       "    <tr>\n",
       "      <th>5</th>\n",
       "      <td>6</td>\n",
       "      <td>Eve</td>\n",
       "      <td>45</td>\n",
       "      <td>eve@example</td>\n",
       "      <td>2020-05-01</td>\n",
       "      <td>90000</td>\n",
       "    </tr>\n",
       "    <tr>\n",
       "      <th>6</th>\n",
       "      <td>7</td>\n",
       "      <td>Frank</td>\n",
       "      <td>50</td>\n",
       "      <td>frank@@example.com</td>\n",
       "      <td>2020-06-01</td>\n",
       "      <td>100000</td>\n",
       "    </tr>\n",
       "    <tr>\n",
       "      <th>7</th>\n",
       "      <td>8</td>\n",
       "      <td>Grace</td>\n",
       "      <td>55</td>\n",
       "      <td>grace@example.com</td>\n",
       "      <td>2020-07-01</td>\n",
       "      <td>one lakh</td>\n",
       "    </tr>\n",
       "  </tbody>\n",
       "</table>\n",
       "</div>"
      ],
      "text/plain": [
       "  ID     Name         Age               Email    JoinDate    Salary\n",
       "0  1    Alice          25   alice@example.com  2020-01-01     50000\n",
       "1  2      Bob          30     bob@example.com  not a date     60000\n",
       "2  2      Bob          30     bob@example.com  2020-02-01     60000\n",
       "3  4  Charlie         NaN            charlie@  2020-03-01     70000\n",
       "4  5    David  Twenty-two                 NaN  2020-04-01       NaN\n",
       "5  6      Eve          45         eve@example  2020-05-01     90000\n",
       "6  7    Frank          50  frank@@example.com  2020-06-01    100000\n",
       "7  8    Grace          55   grace@example.com  2020-07-01  one lakh"
      ]
     },
     "execution_count": 388,
     "metadata": {},
     "output_type": "execute_result"
    }
   ],
   "source": [
    "data.head(8)"
   ]
  },
  {
   "cell_type": "markdown",
   "id": "0600899a-eda2-4572-8b95-efc21b41c119",
   "metadata": {},
   "source": [
    "####  Identify Missing Values"
   ]
  },
  {
   "cell_type": "code",
   "execution_count": 390,
   "id": "6db67f3a-065d-4b85-aea2-a46b1490275d",
   "metadata": {},
   "outputs": [
    {
     "name": "stdout",
     "output_type": "stream",
     "text": [
      "Missing Data\n",
      "ID          3\n",
      "Name        4\n",
      "Age         4\n",
      "Email       4\n",
      "JoinDate    3\n",
      "Salary      4\n",
      "dtype: int64\n"
     ]
    }
   ],
   "source": [
    "missing_data = data.isnull().sum()\n",
    "print(\"Missing Data\")\n",
    "print(missing_data)\n"
   ]
  },
  {
   "cell_type": "markdown",
   "id": "cb092f13-224a-48b3-b4fe-7493c6ae53ca",
   "metadata": {},
   "source": [
    "#### Imputing Missing values"
   ]
  },
  {
   "cell_type": "code",
   "execution_count": 403,
   "id": "f86e0995-d7b8-4f85-9f2d-493f1a282e93",
   "metadata": {},
   "outputs": [],
   "source": [
    "imputer = SimpleImputer(strategy='mean')\n"
   ]
  },
  {
   "cell_type": "code",
   "execution_count": 405,
   "id": "3d070dc1-408f-4a34-8df1-794ba0bd7ae0",
   "metadata": {},
   "outputs": [],
   "source": [
    "data[['column1', 'column2']] = imputer.fit_transform(data[['column1', 'column2']])\n"
   ]
  },
  {
   "cell_type": "code",
   "execution_count": 407,
   "id": "e4b2d679-7e4f-4c4c-b3af-0e997cd4abd3",
   "metadata": {},
   "outputs": [
    {
     "name": "stdout",
     "output_type": "stream",
     "text": [
      "    column1  column2\n",
      "0  1.000000      6.0\n",
      "1  2.000000      5.0\n",
      "2  2.333333      6.0\n",
      "3  4.000000      7.0\n"
     ]
    }
   ],
   "source": [
    "print(data)"
   ]
  },
  {
   "cell_type": "markdown",
   "id": "f198e5a4-819b-4ebd-a4cd-5e9cfbc69627",
   "metadata": {},
   "source": [
    "#### Checking datatype"
   ]
  },
  {
   "cell_type": "code",
   "execution_count": 410,
   "id": "ac487ee6-c285-44fb-a403-4feb3780caf4",
   "metadata": {},
   "outputs": [
    {
     "name": "stdout",
     "output_type": "stream",
     "text": [
      "column1    float64\n",
      "column2    float64\n",
      "dtype: object\n"
     ]
    }
   ],
   "source": [
    "print(data.dtypes)           \n"
   ]
  },
  {
   "cell_type": "markdown",
   "id": "2a24983b-2148-4ff8-901a-9fa9fe81e762",
   "metadata": {},
   "source": [
    "#### Removing Value"
   ]
  },
  {
   "cell_type": "code",
   "execution_count": 443,
   "id": "7001f4e9-be96-409f-b3f7-1bcd7a63aebf",
   "metadata": {},
   "outputs": [],
   "source": [
    "unique_values = data['Age'].unique()\n"
   ]
  },
  {
   "cell_type": "code",
   "execution_count": 445,
   "id": "c83e5221-3116-4f66-bb48-b648000bc494",
   "metadata": {},
   "outputs": [
    {
     "name": "stdout",
     "output_type": "stream",
     "text": [
      "Unique values in 'Age': [25 30 40]\n"
     ]
    }
   ],
   "source": [
    "print(\"Unique values in 'Age':\", unique_values)\n"
   ]
  },
  {
   "cell_type": "markdown",
   "id": "9f4151e6-401e-4c89-94e5-4c845956bbe8",
   "metadata": {},
   "source": [
    "#### Assigning data type"
   ]
  },
  {
   "cell_type": "code",
   "execution_count": 447,
   "id": "96249548-cdda-42e4-bd4e-3c0365a3c9bd",
   "metadata": {},
   "outputs": [],
   "source": [
    "data = pd.DataFrame({'Age': [25, 30, 35, 40]})\n"
   ]
  },
  {
   "cell_type": "code",
   "execution_count": 449,
   "id": "eac8838f-ce98-461a-b3f2-bb621eede609",
   "metadata": {},
   "outputs": [
    {
     "name": "stdout",
     "output_type": "stream",
     "text": [
      "   Age\n",
      "0   25\n",
      "1   30\n",
      "2   35\n",
      "3   40\n"
     ]
    }
   ],
   "source": [
    "data['Age'] = data['Age'].astype(int)\n",
    "print(data)"
   ]
  },
  {
   "cell_type": "markdown",
   "id": "ab97fdae-a1c4-4ede-8de1-3a3901dbdd36",
   "metadata": {},
   "source": [
    "####  Dealing with duplicates"
   ]
  },
  {
   "cell_type": "code",
   "execution_count": 495,
   "id": "3bcad59c-6b5c-4160-9f08-7a5c8652d85b",
   "metadata": {},
   "outputs": [],
   "source": [
    "data = pd.DataFrame({\n",
    "    'name': ['Alice', 'Bob', 'Charlie', 'Bob'],\n",
    "    'salary': [50000, 60000, 70000, 60000]\n",
    "})"
   ]
  },
  {
   "cell_type": "code",
   "execution_count": 497,
   "id": "0c3b3fd3-7bec-4605-88b7-54f8cc936742",
   "metadata": {},
   "outputs": [
    {
     "name": "stdout",
     "output_type": "stream",
     "text": [
      "3    60000\n",
      "Name: salary, dtype: int64\n"
     ]
    }
   ],
   "source": [
    "duplicates = data.duplicated()\n",
    "print(data[duplicates]['salary'])"
   ]
  },
  {
   "cell_type": "code",
   "execution_count": 477,
   "id": "491760a1-8236-4981-9b12-1416809617eb",
   "metadata": {},
   "outputs": [
    {
     "data": {
      "text/html": [
       "<div>\n",
       "<style scoped>\n",
       "    .dataframe tbody tr th:only-of-type {\n",
       "        vertical-align: middle;\n",
       "    }\n",
       "\n",
       "    .dataframe tbody tr th {\n",
       "        vertical-align: top;\n",
       "    }\n",
       "\n",
       "    .dataframe thead th {\n",
       "        text-align: right;\n",
       "    }\n",
       "</style>\n",
       "<table border=\"1\" class=\"dataframe\">\n",
       "  <thead>\n",
       "    <tr style=\"text-align: right;\">\n",
       "      <th></th>\n",
       "      <th>name</th>\n",
       "      <th>salary</th>\n",
       "    </tr>\n",
       "  </thead>\n",
       "  <tbody>\n",
       "    <tr>\n",
       "      <th>0</th>\n",
       "      <td>Alice</td>\n",
       "      <td>50000</td>\n",
       "    </tr>\n",
       "    <tr>\n",
       "      <th>1</th>\n",
       "      <td>Bob</td>\n",
       "      <td>60000</td>\n",
       "    </tr>\n",
       "    <tr>\n",
       "      <th>2</th>\n",
       "      <td>Charlie</td>\n",
       "      <td>70000</td>\n",
       "    </tr>\n",
       "  </tbody>\n",
       "</table>\n",
       "</div>"
      ],
      "text/plain": [
       "      name  salary\n",
       "0    Alice   50000\n",
       "1      Bob   60000\n",
       "2  Charlie   70000"
      ]
     },
     "execution_count": 477,
     "metadata": {},
     "output_type": "execute_result"
    }
   ],
   "source": [
    "data.drop_duplicates(inplace=True)\n",
    "data"
   ]
  },
  {
   "cell_type": "markdown",
   "id": "d7e508d6-35c2-4078-94ca-253981f1228e",
   "metadata": {},
   "source": [
    "####  Sorting data"
   ]
  },
  {
   "cell_type": "code",
   "execution_count": 469,
   "id": "9111a9db-2129-49fd-a507-5490742a160a",
   "metadata": {},
   "outputs": [
    {
     "name": "stdout",
     "output_type": "stream",
     "text": [
      "      name  age\n",
      "0    Alice   25\n",
      "1      Bob   30\n",
      "2  Charlie   20\n",
      "3    Grace   55\n"
     ]
    }
   ],
   "source": [
    "sorted_data = data.sort_values(by='age', ascending=False)\n",
    "print(data)\n"
   ]
  },
  {
   "cell_type": "markdown",
   "id": "4b5aa4a0-33fd-40e5-9e3c-9e71a717a094",
   "metadata": {},
   "source": [
    "#### Boolean filtering"
   ]
  },
  {
   "cell_type": "code",
   "execution_count": 473,
   "id": "7fe2cae5-67e8-4c04-b55d-68fc387044b9",
   "metadata": {},
   "outputs": [],
   "source": [
    "data = pd.DataFrame({\n",
    "    'name': ['Alice', 'Bob', 'Charlie'],\n",
    "    'salary': [50000, 60000, 70000]\n",
    "})"
   ]
  },
  {
   "cell_type": "code",
   "execution_count": 475,
   "id": "f4fa9ace-7686-44b7-8e02-bf4ae11264ac",
   "metadata": {},
   "outputs": [
    {
     "data": {
      "text/html": [
       "<div>\n",
       "<style scoped>\n",
       "    .dataframe tbody tr th:only-of-type {\n",
       "        vertical-align: middle;\n",
       "    }\n",
       "\n",
       "    .dataframe tbody tr th {\n",
       "        vertical-align: top;\n",
       "    }\n",
       "\n",
       "    .dataframe thead th {\n",
       "        text-align: right;\n",
       "    }\n",
       "</style>\n",
       "<table border=\"1\" class=\"dataframe\">\n",
       "  <thead>\n",
       "    <tr style=\"text-align: right;\">\n",
       "      <th></th>\n",
       "      <th>name</th>\n",
       "      <th>salary</th>\n",
       "    </tr>\n",
       "  </thead>\n",
       "  <tbody>\n",
       "    <tr>\n",
       "      <th>1</th>\n",
       "      <td>Bob</td>\n",
       "      <td>60000</td>\n",
       "    </tr>\n",
       "    <tr>\n",
       "      <th>2</th>\n",
       "      <td>Charlie</td>\n",
       "      <td>70000</td>\n",
       "    </tr>\n",
       "  </tbody>\n",
       "</table>\n",
       "</div>"
      ],
      "text/plain": [
       "      name  salary\n",
       "1      Bob   60000\n",
       "2  Charlie   70000"
      ]
     },
     "execution_count": 475,
     "metadata": {},
     "output_type": "execute_result"
    }
   ],
   "source": [
    "filtered_data = data[data['salary'] > 50000]\n",
    "filtered_data\n"
   ]
  },
  {
   "cell_type": "markdown",
   "id": "87ee2e21-f476-4d57-a083-e00ab22c4b32",
   "metadata": {},
   "source": [
    "#### Is, In"
   ]
  },
  {
   "cell_type": "code",
   "execution_count": 221,
   "id": "59fafb59-214b-448f-9caa-5170794d2d10",
   "metadata": {},
   "outputs": [],
   "source": [
    "data = pd.DataFrame({\n",
    "    'Name': ['Alice', 'Bob', 'Charlie','Frank'],\n",
    "    'Salary': ['High', 'Low', 'Medium','Large']\n",
    "})"
   ]
  },
  {
   "cell_type": "code",
   "execution_count": 225,
   "id": "10384e9d-be62-4b4b-b205-6adb425dce77",
   "metadata": {},
   "outputs": [
    {
     "data": {
      "text/html": [
       "<div>\n",
       "<style scoped>\n",
       "    .dataframe tbody tr th:only-of-type {\n",
       "        vertical-align: middle;\n",
       "    }\n",
       "\n",
       "    .dataframe tbody tr th {\n",
       "        vertical-align: top;\n",
       "    }\n",
       "\n",
       "    .dataframe thead th {\n",
       "        text-align: right;\n",
       "    }\n",
       "</style>\n",
       "<table border=\"1\" class=\"dataframe\">\n",
       "  <thead>\n",
       "    <tr style=\"text-align: right;\">\n",
       "      <th></th>\n",
       "      <th>Name</th>\n",
       "      <th>Salary</th>\n",
       "    </tr>\n",
       "  </thead>\n",
       "  <tbody>\n",
       "    <tr>\n",
       "      <th>0</th>\n",
       "      <td>Alice</td>\n",
       "      <td>High</td>\n",
       "    </tr>\n",
       "    <tr>\n",
       "      <th>2</th>\n",
       "      <td>Charlie</td>\n",
       "      <td>Medium</td>\n",
       "    </tr>\n",
       "    <tr>\n",
       "      <th>3</th>\n",
       "      <td>Frank</td>\n",
       "      <td>Large</td>\n",
       "    </tr>\n",
       "  </tbody>\n",
       "</table>\n",
       "</div>"
      ],
      "text/plain": [
       "      Name  Salary\n",
       "0    Alice    High\n",
       "2  Charlie  Medium\n",
       "3    Frank   Large"
      ]
     },
     "execution_count": 225,
     "metadata": {},
     "output_type": "execute_result"
    }
   ],
   "source": [
    "filtered_data = data[data['Salary'].isin(['High', 'Medium','Large'])]\n",
    "filtered_data"
   ]
  },
  {
   "cell_type": "markdown",
   "id": "ab09f146-93bc-4e96-bdd3-c9766c6e5c69",
   "metadata": {},
   "source": [
    "####  Loc and Iloc"
   ]
  },
  {
   "cell_type": "code",
   "execution_count": 501,
   "id": "ed63fa9a-1e18-46af-9427-e027f4d241aa",
   "metadata": {},
   "outputs": [
    {
     "data": {
      "text/html": [
       "<div>\n",
       "<style scoped>\n",
       "    .dataframe tbody tr th:only-of-type {\n",
       "        vertical-align: middle;\n",
       "    }\n",
       "\n",
       "    .dataframe tbody tr th {\n",
       "        vertical-align: top;\n",
       "    }\n",
       "\n",
       "    .dataframe thead th {\n",
       "        text-align: right;\n",
       "    }\n",
       "</style>\n",
       "<table border=\"1\" class=\"dataframe\">\n",
       "  <thead>\n",
       "    <tr style=\"text-align: right;\">\n",
       "      <th></th>\n",
       "      <th>name</th>\n",
       "      <th>salary</th>\n",
       "    </tr>\n",
       "  </thead>\n",
       "  <tbody>\n",
       "    <tr>\n",
       "      <th>0</th>\n",
       "      <td>Alice</td>\n",
       "      <td>50000</td>\n",
       "    </tr>\n",
       "    <tr>\n",
       "      <th>1</th>\n",
       "      <td>Bob</td>\n",
       "      <td>60000</td>\n",
       "    </tr>\n",
       "    <tr>\n",
       "      <th>2</th>\n",
       "      <td>Charlie</td>\n",
       "      <td>70000</td>\n",
       "    </tr>\n",
       "    <tr>\n",
       "      <th>3</th>\n",
       "      <td>Bob</td>\n",
       "      <td>60000</td>\n",
       "    </tr>\n",
       "  </tbody>\n",
       "</table>\n",
       "</div>"
      ],
      "text/plain": [
       "      name  salary\n",
       "0    Alice   50000\n",
       "1      Bob   60000\n",
       "2  Charlie   70000\n",
       "3      Bob   60000"
      ]
     },
     "execution_count": 501,
     "metadata": {},
     "output_type": "execute_result"
    }
   ],
   "source": [
    "data"
   ]
  },
  {
   "cell_type": "code",
   "execution_count": 551,
   "id": "71948f76-e812-40ce-881a-ac1877e77933",
   "metadata": {},
   "outputs": [],
   "source": [
    "data = pd.DataFrame({\n",
    "    'Name': ['Alice', 'Bob', 'Alice', 'Charlie', 'Bob'],\n",
    "    'Salary': [50000, 60000, 50000, 70000, 60000]})"
   ]
  },
  {
   "cell_type": "code",
   "execution_count": 553,
   "id": "d6e6f50b-782b-415c-bb58-0c631b5c566c",
   "metadata": {},
   "outputs": [
    {
     "name": "stdout",
     "output_type": "stream",
     "text": [
      "      Name  Salary\n",
      "0    Alice   50000\n",
      "1      Bob   60000\n",
      "2    Alice   50000\n",
      "3  Charlie   70000\n",
      "4      Bob   60000\n"
     ]
    }
   ],
   "source": [
    "data.loc[data['Salary'] > 50000, ['Name', 'Salary']]\n",
    "print(data)\n"
   ]
  },
  {
   "cell_type": "code",
   "execution_count": 555,
   "id": "1afc6ba4-328c-434e-a094-92640fd82be7",
   "metadata": {},
   "outputs": [
    {
     "name": "stdout",
     "output_type": "stream",
     "text": [
      "   Salary\n",
      "0   50000\n",
      "1   60000\n",
      "2   50000\n",
      "3   70000\n"
     ]
    }
   ],
   "source": [
    "data.iloc[0:4, 1:3]\n",
    "print(subset)\n"
   ]
  },
  {
   "cell_type": "markdown",
   "id": "394ee20a-8d92-4e9c-88b8-b7d19ab33bcb",
   "metadata": {},
   "source": [
    "####  Combining and condition"
   ]
  },
  {
   "cell_type": "code",
   "execution_count": 584,
   "id": "dde6559b-2db0-46b5-ab3b-5e377c1f3583",
   "metadata": {},
   "outputs": [],
   "source": [
    "data = pd.DataFrame({\n",
    "    'Name': ['Alice', 'Bob', 'Charlie', 'Diana'],\n",
    "    'Age': [25, 35, 45, 28],\n",
    "    'Salary': [50000, 60000, 70000, 48000]})"
   ]
  },
  {
   "cell_type": "code",
   "execution_count": 590,
   "id": "297b2be3-45ab-4543-9892-26c3f471f715",
   "metadata": {},
   "outputs": [
    {
     "data": {
      "text/html": [
       "<div>\n",
       "<style scoped>\n",
       "    .dataframe tbody tr th:only-of-type {\n",
       "        vertical-align: middle;\n",
       "    }\n",
       "\n",
       "    .dataframe tbody tr th {\n",
       "        vertical-align: top;\n",
       "    }\n",
       "\n",
       "    .dataframe thead th {\n",
       "        text-align: right;\n",
       "    }\n",
       "</style>\n",
       "<table border=\"1\" class=\"dataframe\">\n",
       "  <thead>\n",
       "    <tr style=\"text-align: right;\">\n",
       "      <th></th>\n",
       "      <th>Name</th>\n",
       "      <th>Age</th>\n",
       "      <th>Salary</th>\n",
       "    </tr>\n",
       "  </thead>\n",
       "  <tbody>\n",
       "    <tr>\n",
       "      <th>1</th>\n",
       "      <td>Bob</td>\n",
       "      <td>35</td>\n",
       "      <td>60000</td>\n",
       "    </tr>\n",
       "    <tr>\n",
       "      <th>2</th>\n",
       "      <td>Charlie</td>\n",
       "      <td>45</td>\n",
       "      <td>70000</td>\n",
       "    </tr>\n",
       "    <tr>\n",
       "      <th>3</th>\n",
       "      <td>Diana</td>\n",
       "      <td>28</td>\n",
       "      <td>48000</td>\n",
       "    </tr>\n",
       "  </tbody>\n",
       "</table>\n",
       "</div>"
      ],
      "text/plain": [
       "      Name  Age  Salary\n",
       "1      Bob   35   60000\n",
       "2  Charlie   45   70000\n",
       "3    Diana   28   48000"
      ]
     },
     "execution_count": 590,
     "metadata": {},
     "output_type": "execute_result"
    }
   ],
   "source": [
    "filtered_data = data[(data['Age'] > 30) | (data['Salary'] < 50000)]\n",
    "filtered_data"
   ]
  },
  {
   "cell_type": "code",
   "execution_count": 592,
   "id": "a249cff6-b872-43ac-9be2-77fba4693e7e",
   "metadata": {},
   "outputs": [
    {
     "data": {
      "text/html": [
       "<div>\n",
       "<style scoped>\n",
       "    .dataframe tbody tr th:only-of-type {\n",
       "        vertical-align: middle;\n",
       "    }\n",
       "\n",
       "    .dataframe tbody tr th {\n",
       "        vertical-align: top;\n",
       "    }\n",
       "\n",
       "    .dataframe thead th {\n",
       "        text-align: right;\n",
       "    }\n",
       "</style>\n",
       "<table border=\"1\" class=\"dataframe\">\n",
       "  <thead>\n",
       "    <tr style=\"text-align: right;\">\n",
       "      <th></th>\n",
       "      <th>Name</th>\n",
       "      <th>Age</th>\n",
       "      <th>Salary</th>\n",
       "    </tr>\n",
       "  </thead>\n",
       "  <tbody>\n",
       "    <tr>\n",
       "      <th>0</th>\n",
       "      <td>Alice</td>\n",
       "      <td>25</td>\n",
       "      <td>50000</td>\n",
       "    </tr>\n",
       "    <tr>\n",
       "      <th>3</th>\n",
       "      <td>Diana</td>\n",
       "      <td>28</td>\n",
       "      <td>48000</td>\n",
       "    </tr>\n",
       "  </tbody>\n",
       "</table>\n",
       "</div>"
      ],
      "text/plain": [
       "    Name  Age  Salary\n",
       "0  Alice   25   50000\n",
       "3  Diana   28   48000"
      ]
     },
     "execution_count": 592,
     "metadata": {},
     "output_type": "execute_result"
    }
   ],
   "source": [
    "filtered_data = data[(data['Age'] > 20) & (data['Salary'] < 60000)]\n",
    "filtered_data\n"
   ]
  },
  {
   "cell_type": "code",
   "execution_count": null,
   "id": "3d3a320a-db9d-4ec4-a1ce-99a81889f4a0",
   "metadata": {},
   "outputs": [],
   "source": []
  },
  {
   "cell_type": "code",
   "execution_count": null,
   "id": "6b91026a-9225-4999-86b7-1662f2c131c6",
   "metadata": {},
   "outputs": [],
   "source": []
  }
 ],
 "metadata": {
  "kernelspec": {
   "display_name": "Python 3 (ipykernel)",
   "language": "python",
   "name": "python3"
  },
  "language_info": {
   "codemirror_mode": {
    "name": "ipython",
    "version": 3
   },
   "file_extension": ".py",
   "mimetype": "text/x-python",
   "name": "python",
   "nbconvert_exporter": "python",
   "pygments_lexer": "ipython3",
   "version": "3.12.7"
  }
 },
 "nbformat": 4,
 "nbformat_minor": 5
}
