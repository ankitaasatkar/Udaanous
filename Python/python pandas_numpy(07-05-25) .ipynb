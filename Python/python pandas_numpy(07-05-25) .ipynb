{
 "cells": [
  {
   "cell_type": "code",
   "execution_count": 110,
   "id": "00c0c8b3-8ad9-4f45-9863-17b6ba7c30de",
   "metadata": {},
   "outputs": [],
   "source": [
    "import pandas as pd\n",
    "import numpy as np\n",
    "from sklearn.impute import SimpleImputer\n"
   ]
  },
  {
   "cell_type": "code",
   "execution_count": 111,
   "id": "4e9ee24d-d185-47ab-8a5a-aa37eb55e16d",
   "metadata": {},
   "outputs": [],
   "source": [
    "data = pd.read_csv(r\"C:\\Users\\Chet\\Documents\\Messy data set.csv\")\n"
   ]
  },
  {
   "cell_type": "code",
   "execution_count": 112,
   "id": "2b4060e4-db59-4bb5-a31f-e15875b7a0e5",
   "metadata": {},
   "outputs": [
    {
     "data": {
      "text/html": [
       "<div>\n",
       "<style scoped>\n",
       "    .dataframe tbody tr th:only-of-type {\n",
       "        vertical-align: middle;\n",
       "    }\n",
       "\n",
       "    .dataframe tbody tr th {\n",
       "        vertical-align: top;\n",
       "    }\n",
       "\n",
       "    .dataframe thead th {\n",
       "        text-align: right;\n",
       "    }\n",
       "</style>\n",
       "<table border=\"1\" class=\"dataframe\">\n",
       "  <thead>\n",
       "    <tr style=\"text-align: right;\">\n",
       "      <th></th>\n",
       "      <th>ID</th>\n",
       "      <th>Name</th>\n",
       "      <th>Age</th>\n",
       "      <th>Email</th>\n",
       "      <th>JoinDate</th>\n",
       "      <th>Salary</th>\n",
       "    </tr>\n",
       "  </thead>\n",
       "  <tbody>\n",
       "    <tr>\n",
       "      <th>0</th>\n",
       "      <td>1</td>\n",
       "      <td>Alice</td>\n",
       "      <td>25</td>\n",
       "      <td>alice@example.com</td>\n",
       "      <td>2020-01-01</td>\n",
       "      <td>50000</td>\n",
       "    </tr>\n",
       "    <tr>\n",
       "      <th>1</th>\n",
       "      <td>2</td>\n",
       "      <td>Bob</td>\n",
       "      <td>30</td>\n",
       "      <td>bob@example.com</td>\n",
       "      <td>not a date</td>\n",
       "      <td>60000</td>\n",
       "    </tr>\n",
       "    <tr>\n",
       "      <th>2</th>\n",
       "      <td>2</td>\n",
       "      <td>Bob</td>\n",
       "      <td>30</td>\n",
       "      <td>bob@example.com</td>\n",
       "      <td>2020-02-01</td>\n",
       "      <td>60000</td>\n",
       "    </tr>\n",
       "    <tr>\n",
       "      <th>3</th>\n",
       "      <td>4</td>\n",
       "      <td>Charlie</td>\n",
       "      <td>NaN</td>\n",
       "      <td>charlie@</td>\n",
       "      <td>2020-03-01</td>\n",
       "      <td>70000</td>\n",
       "    </tr>\n",
       "    <tr>\n",
       "      <th>4</th>\n",
       "      <td>5</td>\n",
       "      <td>David</td>\n",
       "      <td>Twenty-two</td>\n",
       "      <td>NaN</td>\n",
       "      <td>2020-04-01</td>\n",
       "      <td>NaN</td>\n",
       "    </tr>\n",
       "    <tr>\n",
       "      <th>5</th>\n",
       "      <td>6</td>\n",
       "      <td>Eve</td>\n",
       "      <td>45</td>\n",
       "      <td>eve@example</td>\n",
       "      <td>2020-05-01</td>\n",
       "      <td>90000</td>\n",
       "    </tr>\n",
       "    <tr>\n",
       "      <th>6</th>\n",
       "      <td>7</td>\n",
       "      <td>Frank</td>\n",
       "      <td>50</td>\n",
       "      <td>frank@@example.com</td>\n",
       "      <td>2020-06-01</td>\n",
       "      <td>100000</td>\n",
       "    </tr>\n",
       "    <tr>\n",
       "      <th>7</th>\n",
       "      <td>8</td>\n",
       "      <td>Grace</td>\n",
       "      <td>55</td>\n",
       "      <td>grace@example.com</td>\n",
       "      <td>2020-07-01</td>\n",
       "      <td>one lakh</td>\n",
       "    </tr>\n",
       "    <tr>\n",
       "      <th>8</th>\n",
       "      <td>nine</td>\n",
       "      <td>Heidi</td>\n",
       "      <td>60</td>\n",
       "      <td>heidi@example.com</td>\n",
       "      <td>2020.08.01</td>\n",
       "      <td>120000</td>\n",
       "    </tr>\n",
       "    <tr>\n",
       "      <th>9</th>\n",
       "      <td>10</td>\n",
       "      <td>NaN</td>\n",
       "      <td>65</td>\n",
       "      <td>10@example.com</td>\n",
       "      <td>2020-09-01</td>\n",
       "      <td>130000</td>\n",
       "    </tr>\n",
       "  </tbody>\n",
       "</table>\n",
       "</div>"
      ],
      "text/plain": [
       "     ID     Name         Age               Email    JoinDate    Salary\n",
       "0     1    Alice          25   alice@example.com  2020-01-01     50000\n",
       "1     2      Bob          30     bob@example.com  not a date     60000\n",
       "2     2      Bob          30     bob@example.com  2020-02-01     60000\n",
       "3     4  Charlie         NaN            charlie@  2020-03-01     70000\n",
       "4     5    David  Twenty-two                 NaN  2020-04-01       NaN\n",
       "5     6      Eve          45         eve@example  2020-05-01     90000\n",
       "6     7    Frank          50  frank@@example.com  2020-06-01    100000\n",
       "7     8    Grace          55   grace@example.com  2020-07-01  one lakh\n",
       "8  nine    Heidi          60   heidi@example.com  2020.08.01    120000\n",
       "9    10      NaN          65      10@example.com  2020-09-01    130000"
      ]
     },
     "execution_count": 112,
     "metadata": {},
     "output_type": "execute_result"
    }
   ],
   "source": [
    "data.head(10)"
   ]
  },
  {
   "cell_type": "markdown",
   "id": "728817c0-016a-4e66-ae12-eb402affac0a",
   "metadata": {},
   "source": [
    "#### Value counts"
   ]
  },
  {
   "cell_type": "code",
   "execution_count": 114,
   "id": "d331a314-9f66-4dc9-ae39-13ce8e98c8c2",
   "metadata": {},
   "outputs": [
    {
     "data": {
      "text/plain": [
       "Age\n",
       "30            2\n",
       "25            1\n",
       "Twenty-two    1\n",
       "45            1\n",
       "50            1\n",
       "55            1\n",
       "60            1\n",
       "65            1\n",
       "Name: count, dtype: int64"
      ]
     },
     "execution_count": 114,
     "metadata": {},
     "output_type": "execute_result"
    }
   ],
   "source": [
    "data['Age'].value_counts()"
   ]
  },
  {
   "cell_type": "markdown",
   "id": "5d18a842-eb02-475f-be68-896faa670677",
   "metadata": {},
   "source": [
    "## Descriptive"
   ]
  },
  {
   "cell_type": "code",
   "execution_count": 116,
   "id": "465500b9-4565-4463-974c-61af82c8b2cb",
   "metadata": {},
   "outputs": [
    {
     "data": {
      "text/html": [
       "<div>\n",
       "<style scoped>\n",
       "    .dataframe tbody tr th:only-of-type {\n",
       "        vertical-align: middle;\n",
       "    }\n",
       "\n",
       "    .dataframe tbody tr th {\n",
       "        vertical-align: top;\n",
       "    }\n",
       "\n",
       "    .dataframe thead th {\n",
       "        text-align: right;\n",
       "    }\n",
       "</style>\n",
       "<table border=\"1\" class=\"dataframe\">\n",
       "  <thead>\n",
       "    <tr style=\"text-align: right;\">\n",
       "      <th></th>\n",
       "      <th>ID</th>\n",
       "      <th>Name</th>\n",
       "      <th>Age</th>\n",
       "      <th>Email</th>\n",
       "      <th>JoinDate</th>\n",
       "      <th>Salary</th>\n",
       "    </tr>\n",
       "  </thead>\n",
       "  <tbody>\n",
       "    <tr>\n",
       "      <th>count</th>\n",
       "      <td>10</td>\n",
       "      <td>9</td>\n",
       "      <td>9</td>\n",
       "      <td>9</td>\n",
       "      <td>10</td>\n",
       "      <td>9</td>\n",
       "    </tr>\n",
       "    <tr>\n",
       "      <th>unique</th>\n",
       "      <td>9</td>\n",
       "      <td>8</td>\n",
       "      <td>8</td>\n",
       "      <td>8</td>\n",
       "      <td>10</td>\n",
       "      <td>8</td>\n",
       "    </tr>\n",
       "    <tr>\n",
       "      <th>top</th>\n",
       "      <td>2</td>\n",
       "      <td>Bob</td>\n",
       "      <td>30</td>\n",
       "      <td>bob@example.com</td>\n",
       "      <td>2020-01-01</td>\n",
       "      <td>60000</td>\n",
       "    </tr>\n",
       "    <tr>\n",
       "      <th>freq</th>\n",
       "      <td>2</td>\n",
       "      <td>2</td>\n",
       "      <td>2</td>\n",
       "      <td>2</td>\n",
       "      <td>1</td>\n",
       "      <td>2</td>\n",
       "    </tr>\n",
       "  </tbody>\n",
       "</table>\n",
       "</div>"
      ],
      "text/plain": [
       "        ID Name Age            Email    JoinDate Salary\n",
       "count   10    9   9                9          10      9\n",
       "unique   9    8   8                8          10      8\n",
       "top      2  Bob  30  bob@example.com  2020-01-01  60000\n",
       "freq     2    2   2                2           1      2"
      ]
     },
     "execution_count": 116,
     "metadata": {},
     "output_type": "execute_result"
    }
   ],
   "source": [
    "data.describe()"
   ]
  },
  {
   "cell_type": "markdown",
   "id": "cb9ff16f-4d88-4a97-b192-8683c4ab03af",
   "metadata": {},
   "source": [
    "## Group by"
   ]
  },
  {
   "cell_type": "code",
   "execution_count": 118,
   "id": "ecacff05-187f-4244-8735-c154fea5639d",
   "metadata": {
    "scrolled": true
   },
   "outputs": [],
   "source": [
    "data = pd.DataFrame({\n",
    "    'Name': ['Alice','Bob','Charlie'],\n",
    "    'Salary': [50000,60000,70000]\n",
    "})\n",
    "\n"
   ]
  },
  {
   "cell_type": "code",
   "execution_count": 119,
   "id": "c8bf1539-779e-4135-a3db-4e5ca5fecb69",
   "metadata": {},
   "outputs": [
    {
     "name": "stdout",
     "output_type": "stream",
     "text": [
      "Name\n",
      "Alice      50000.0\n",
      "Bob        60000.0\n",
      "Charlie    70000.0\n",
      "Name: Salary, dtype: float64\n"
     ]
    }
   ],
   "source": [
    "grouped_var = data.groupby('Name')['Salary'].mean()\n",
    "print(grouped_var)\n"
   ]
  },
  {
   "cell_type": "markdown",
   "id": "76e99fe8-2b18-454a-a3af-e2500c235c62",
   "metadata": {},
   "source": [
    "## pivot table"
   ]
  },
  {
   "cell_type": "code",
   "execution_count": 120,
   "id": "8df75ef4-e1b8-4c9d-957f-348a11a92986",
   "metadata": {},
   "outputs": [
    {
     "name": "stdout",
     "output_type": "stream",
     "text": [
      "          Age   ID\n",
      "Name              \n",
      "Alice    25.0  1.0\n",
      "Bob      35.0  2.0\n",
      "Charlie  40.0  3.0\n",
      "David    35.0  4.0\n",
      "Eve      42.0  5.0\n"
     ]
    }
   ],
   "source": [
    "\n",
    "data = pd.DataFrame({\n",
    "    'ID' : [1,2,3,4,5],\n",
    "    'Age' : [25,35,40,35,42],\n",
    "    'Name': ['Alice', 'Bob', 'Charlie', 'David','Eve']\n",
    "})\n",
    "\n",
    "\n",
    "pivot_table = data.pivot_table(\n",
    "    index='Name',\n",
    "    values=['ID', 'Age'],\n",
    "    aggfunc={'ID': 'mean', 'Age': 'mean'}\n",
    ")\n",
    "\n",
    "print(pivot_table)"
   ]
  },
  {
   "cell_type": "markdown",
   "id": "fb174bc2-57c5-4a24-bcdc-f53c837e1c90",
   "metadata": {},
   "source": [
    "## cross tab"
   ]
  },
  {
   "cell_type": "code",
   "execution_count": 133,
   "id": "fd1d0d17-29be-45aa-aec7-90d9d96ad6f2",
   "metadata": {},
   "outputs": [
    {
     "name": "stdout",
     "output_type": "stream",
     "text": [
      "DATA1         A         B\n",
      "DATA                     \n",
      "1      0.666667  0.333333\n",
      "2      0.500000  0.500000\n",
      "3      1.000000  0.000000\n",
      "All    0.714286  0.285714\n"
     ]
    }
   ],
   "source": [
    "\n",
    "data = pd.DataFrame({\n",
    "    'DATA': ['1', '1', '2', '2', '3', '1', '3'],\n",
    "    'DATA1': ['A', 'B', 'A', 'B', 'A', 'A', 'A']\n",
    "})\n",
    "\n",
    "\n",
    "cross_tab = pd.crosstab(data['DATA'],data['DATA1'],\n",
    "    margins=True,                \n",
    "    normalize='index')           \n",
    "\n",
    "\n",
    "print(cross_tab)"
   ]
  },
  {
   "cell_type": "code",
   "execution_count": null,
   "id": "42f12b3c-c424-4f1d-854f-d0ee0b534cc5",
   "metadata": {},
   "outputs": [],
   "source": []
  }
 ],
 "metadata": {
  "kernelspec": {
   "display_name": "Python 3 (ipykernel)",
   "language": "python",
   "name": "python3"
  },
  "language_info": {
   "codemirror_mode": {
    "name": "ipython",
    "version": 3
   },
   "file_extension": ".py",
   "mimetype": "text/x-python",
   "name": "python",
   "nbconvert_exporter": "python",
   "pygments_lexer": "ipython3",
   "version": "3.12.7"
  }
 },
 "nbformat": 4,
 "nbformat_minor": 5
}
