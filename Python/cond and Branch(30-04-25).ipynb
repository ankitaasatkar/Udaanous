{
 "cells": [
  {
   "cell_type": "markdown",
   "id": "88ae6b5d-aa92-4ea1-b0db-937a5a52e400",
   "metadata": {},
   "source": [
    "## Conditions"
   ]
  },
  {
   "cell_type": "code",
   "execution_count": 12,
   "id": "9d321342-f4ff-44ec-b3e6-dc9ffa079c94",
   "metadata": {},
   "outputs": [
    {
     "name": "stdout",
     "output_type": "stream",
     "text": [
      "Y is greater than 10\n"
     ]
    }
   ],
   "source": [
    "Y =20\n",
    "if Y > 10:\n",
    "    print(\"Y is greater than 10\")"
   ]
  },
  {
   "cell_type": "markdown",
   "id": "7748be4e-a426-4c58-82a3-84060ef4d76d",
   "metadata": {},
   "source": [
    "## Comparison Operators"
   ]
  },
  {
   "cell_type": "code",
   "execution_count": 17,
   "id": "ca88bcd9-fbe2-47d9-bdde-c4e8e38fd9f8",
   "metadata": {},
   "outputs": [
    {
     "name": "stdout",
     "output_type": "stream",
     "text": [
      "False\n",
      "True\n",
      "False\n"
     ]
    }
   ],
   "source": [
    "A = 50 \n",
    "B = 100\n",
    "print (A == B)\n",
    "print(A < B)\n",
    "print(A > B)"
   ]
  },
  {
   "cell_type": "markdown",
   "id": "fa7299ff-5e61-42b2-ae6a-b08873874500",
   "metadata": {},
   "source": [
    "## Branching"
   ]
  },
  {
   "cell_type": "code",
   "execution_count": 20,
   "id": "50d85cc5-7f04-4ed7-8960-a7d82f2953f0",
   "metadata": {},
   "outputs": [
    {
     "name": "stdout",
     "output_type": "stream",
     "text": [
      "Eligible to vote\n"
     ]
    }
   ],
   "source": [
    "Age = 20\n",
    "if Age >= 20:\n",
    "    print(\"Eligible to vote\") \n",
    "else: \n",
    "    print(\"Not Eligible to vote\")"
   ]
  },
  {
   "cell_type": "markdown",
   "id": "02064c8a-c19d-4369-a04f-60a29972b6a7",
   "metadata": {},
   "source": [
    "## If Statements"
   ]
  },
  {
   "cell_type": "code",
   "execution_count": 39,
   "id": "4af944d4-6e2f-4262-9bac-0c98eb9567da",
   "metadata": {},
   "outputs": [
    {
     "name": "stdout",
     "output_type": "stream",
     "text": [
      "The no is odd\n"
     ]
    }
   ],
   "source": [
    "Number = 5\n",
    "if Number % 2 == 1:\n",
    "    print(\"The no is odd\")\n",
    "else:\n",
    "    print(\"The no is even\")"
   ]
  },
  {
   "cell_type": "markdown",
   "id": "c24c65eb-95a7-48fe-a707-4894f59a8a5f",
   "metadata": {},
   "source": [
    "## If-else Statement"
   ]
  },
  {
   "cell_type": "code",
   "execution_count": 42,
   "id": "098405a9-6ea1-465c-bbf5-a98a27a9d2ca",
   "metadata": {},
   "outputs": [
    {
     "name": "stdout",
     "output_type": "stream",
     "text": [
      "Pass\n"
     ]
    }
   ],
   "source": [
    "student_marke =80\n",
    "if student_marke >= 50:\n",
    "    print(\"Pass\")\n",
    "else:\n",
    "    print(\"Fail\")"
   ]
  },
  {
   "cell_type": "markdown",
   "id": "89b9a60a-28ec-4f0e-86e3-898d43cf629c",
   "metadata": {},
   "source": [
    "## If-elif-else Statement"
   ]
  },
  {
   "cell_type": "code",
   "execution_count": 45,
   "id": "9a662500-89e6-460c-a1ba-4f94f2490f1c",
   "metadata": {},
   "outputs": [
    {
     "name": "stdout",
     "output_type": "stream",
     "text": [
      "Grade B\n"
     ]
    }
   ],
   "source": [
    "Top_score = 75\n",
    "if Top_score >= 95:\n",
    "    print(\"Grade A\")\n",
    "elif Top_score >= 70:\n",
    "    print(\"Grade B\")\n",
    "else:\n",
    "    print(\"Grade C\")\n",
    "    "
   ]
  },
  {
   "cell_type": "markdown",
   "id": "d23fe67d-40fe-46ad-ab00-602bd0b28684",
   "metadata": {},
   "source": [
    "## If – else Statement + or"
   ]
  },
  {
   "cell_type": "code",
   "execution_count": 48,
   "id": "716bcd8a-f786-4229-a224-5184bffbbf9b",
   "metadata": {},
   "outputs": [
    {
     "name": "stdout",
     "output_type": "stream",
     "text": [
      "Normal weather\n"
     ]
    }
   ],
   "source": [
    "Temperature = 45 \n",
    "if Temperature < 0  or Temperature > 45:\n",
    "    print(\"Hot Weather\")\n",
    "else:\n",
    "    print(\"Normal weather\")"
   ]
  },
  {
   "cell_type": "markdown",
   "id": "9c68995e-caec-43ba-a85e-b91ba008d8e7",
   "metadata": {},
   "source": [
    "## If – else Statement + and"
   ]
  },
  {
   "cell_type": "code",
   "execution_count": 51,
   "id": "07941792-bee2-4d38-ba3b-7c68dad9421f",
   "metadata": {},
   "outputs": [
    {
     "name": "stdout",
     "output_type": "stream",
     "text": [
      "Accept For Loan\n"
     ]
    }
   ],
   "source": [
    "age =29\n",
    "salary = 50000\n",
    "if age > 19 and salary > 40000:\n",
    "    print(\"Accept For Loan\")\n",
    "else:\n",
    "    print(\"Not Accept For Loan\")"
   ]
  },
  {
   "cell_type": "code",
   "execution_count": null,
   "id": "70d243b1-6f45-4f49-895f-ab08438423ac",
   "metadata": {},
   "outputs": [],
   "source": []
  }
 ],
 "metadata": {
  "kernelspec": {
   "display_name": "Python 3 (ipykernel)",
   "language": "python",
   "name": "python3"
  },
  "language_info": {
   "codemirror_mode": {
    "name": "ipython",
    "version": 3
   },
   "file_extension": ".py",
   "mimetype": "text/x-python",
   "name": "python",
   "nbconvert_exporter": "python",
   "pygments_lexer": "ipython3",
   "version": "3.12.7"
  }
 },
 "nbformat": 4,
 "nbformat_minor": 5
}
