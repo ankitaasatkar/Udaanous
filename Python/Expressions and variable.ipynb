{
 "cells": [
  {
   "cell_type": "markdown",
   "id": "b909f2c8-06f5-43ad-9b07-fef427112a4f",
   "metadata": {},
   "source": [
    "# Expression and variable"
   ]
  },
  {
   "cell_type": "markdown",
   "id": "074d45d3-bf02-471a-acf2-71a8990c7336",
   "metadata": {},
   "source": [
    "# Calculate The total number of eggs bought over the three days"
   ]
  },
  {
   "cell_type": "code",
   "execution_count": 22,
   "id": "8c1bc7dc-08b6-468d-ada0-6a8a3b9b81ba",
   "metadata": {},
   "outputs": [
    {
     "name": "stdout",
     "output_type": "stream",
     "text": [
      "The total number of eggs bought over the three days 35\n"
     ]
    }
   ],
   "source": [
    "D1_egg=14\n",
    "D2_egg=12\n",
    "D3_egg=9\n",
    "total_egg_bought= D1_egg+D2_egg+D3_egg\n",
    "print(\"The total number of eggs bought over the three days\", total_egg_bought)"
   ]
  },
  {
   "cell_type": "code",
   "execution_count": 51,
   "id": "7990b6b9-88ec-43dd-888f-1bfc750c36dd",
   "metadata": {},
   "outputs": [
    {
     "name": "stdout",
     "output_type": "stream",
     "text": [
      "Ttotal number of eggs used: 15\n"
     ]
    }
   ],
   "source": [
    "used_day1 = 5\n",
    "used_day2 = 6\n",
    "used_day3 = 4\n",
    "\n",
    "total_eggs_used = used_day1 + used_day2 + used_day3\n",
    "\n",
    "print(\"Ttotal number of eggs used:\", total_eggs_used)"
   ]
  },
  {
   "cell_type": "code",
   "execution_count": 39,
   "id": "0b6b41b6-39a9-4844-9de6-3dc76b9d08fa",
   "metadata": {},
   "outputs": [
    {
     "name": "stdout",
     "output_type": "stream",
     "text": [
      "The total number of Apple bought over the three days 32\n"
     ]
    }
   ],
   "source": [
    "A1_Apple=14\n",
    "A2_Apple=10\n",
    "A3_Apple=8\n",
    "total_Apple_bought= A1_Apple+A2_Apple+A3_Apple\n",
    "print(\"The total number of Apple bought over the three days\", total_Apple_bought)"
   ]
  },
  {
   "cell_type": "code",
   "execution_count": 53,
   "id": "e5ed97e5-136d-4485-a3d8-6a01ec969bfd",
   "metadata": {},
   "outputs": [
    {
     "name": "stdout",
     "output_type": "stream",
     "text": [
      "Remaining number of eggs 20\n"
     ]
    }
   ],
   "source": [
    "remaining_eggs = total_egg_bought - total_eggs_used\n",
    "\n",
    "print(\"Remaining number of eggs\", remaining_eggs)\n",
    "\n"
   ]
  },
  {
   "cell_type": "code",
   "execution_count": null,
   "id": "c6846368-01d4-4e79-8fdf-7cc940e5b48a",
   "metadata": {},
   "outputs": [],
   "source": []
  }
 ],
 "metadata": {
  "kernelspec": {
   "display_name": "Python 3 (ipykernel)",
   "language": "python",
   "name": "python3"
  },
  "language_info": {
   "codemirror_mode": {
    "name": "ipython",
    "version": 3
   },
   "file_extension": ".py",
   "mimetype": "text/x-python",
   "name": "python",
   "nbconvert_exporter": "python",
   "pygments_lexer": "ipython3",
   "version": "3.12.7"
  }
 },
 "nbformat": 4,
 "nbformat_minor": 5
}
