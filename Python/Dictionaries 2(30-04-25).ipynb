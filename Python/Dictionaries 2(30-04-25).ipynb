{
 "cells": [
  {
   "cell_type": "markdown",
   "id": "6fba828e-bc68-4da2-9268-c5ef28270485",
   "metadata": {},
   "source": [
    "## Dictionaries"
   ]
  },
  {
   "cell_type": "code",
   "execution_count": 3,
   "id": "1475a6e6-1a24-41df-b26f-4eece9248580",
   "metadata": {},
   "outputs": [
    {
     "name": "stdout",
     "output_type": "stream",
     "text": [
      "{'Name': 'Rahul', 'Age': 28, 'Section': 'A'}\n"
     ]
    }
   ],
   "source": [
    "Customer ={\"Name\":\"Rahul\",\"Age\":28,\"Section\":\"A\"}\n",
    "print(Customer)"
   ]
  },
  {
   "cell_type": "code",
   "execution_count": 7,
   "id": "352c7e32-a398-43a3-868b-60b55054a4b3",
   "metadata": {},
   "outputs": [
    {
     "name": "stdout",
     "output_type": "stream",
     "text": [
      "Alice\n",
      "20\n"
     ]
    }
   ],
   "source": [
    "student = {\"name\": \"Alice\", \"age\": 20, \"grade\": \"A\", \"city\": \"Pune\"}\n",
    "\n",
    "print(student[\"name\"])\n",
    "print(student[\"age\"])"
   ]
  },
  {
   "cell_type": "markdown",
   "id": "05403760-8fa1-4065-a521-430f38320b75",
   "metadata": {},
   "source": [
    "## Dictionaries Slicings"
   ]
  },
  {
   "cell_type": "code",
   "execution_count": 18,
   "id": "a3de4827-6a49-4fcd-8845-12a28bc988e3",
   "metadata": {},
   "outputs": [
    {
     "name": "stdout",
     "output_type": "stream",
     "text": [
      "Alice\n",
      "Munbai\n"
     ]
    }
   ],
   "source": [
    "student = {\"name\": \"Alice\", \"age\": 20, \"grade\": \"A\", \"city\": \"Munbai\"}\n",
    "name = student[\"name\"]\n",
    "print(name)\n",
    "city = student[\"city\"]\n",
    "print(city)"
   ]
  },
  {
   "cell_type": "markdown",
   "id": "9bb3ce59-532c-41e9-9eff-c7eb5bc74ee1",
   "metadata": {},
   "source": [
    "### Value Add/Remove\n"
   ]
  },
  {
   "cell_type": "code",
   "execution_count": 21,
   "id": "69ea4b40-4c9a-464a-a969-d2b427cc219f",
   "metadata": {},
   "outputs": [
    {
     "name": "stdout",
     "output_type": "stream",
     "text": [
      "['Rakesh verma']\n"
     ]
    }
   ],
   "source": [
    "Full_Name = [\"Rakesh verma\"]\n",
    "print(Full_Name)"
   ]
  },
  {
   "cell_type": "code",
   "execution_count": 23,
   "id": "1276b281-4ff4-4baf-ad43-3255287755a0",
   "metadata": {},
   "outputs": [
    {
     "name": "stdout",
     "output_type": "stream",
     "text": [
      "{'name': 'Alice', 'age': 20, 'grade': 'A'}\n"
     ]
    }
   ],
   "source": [
    "student = {\"name\": \"Alice\", \"age\": 20, \"grade\": \"A\", \"city\": \"Munbai\"}\n",
    "del student [\"city\"]\n",
    "print(student)"
   ]
  },
  {
   "cell_type": "markdown",
   "id": "3eb3f4c1-ddb7-4713-9008-f538474ffa83",
   "metadata": {},
   "source": [
    "## Dictionaries Extractions"
   ]
  },
  {
   "cell_type": "code",
   "execution_count": 34,
   "id": "66165d6e-2998-447b-8ec1-72c127a87f79",
   "metadata": {},
   "outputs": [
    {
     "name": "stdout",
     "output_type": "stream",
     "text": [
      "dict_keys(['name', 'age', 'grade'])\n"
     ]
    }
   ],
   "source": [
    "keys = student.keys()\n",
    "print(keys)"
   ]
  },
  {
   "cell_type": "code",
   "execution_count": 36,
   "id": "8d7735c7-d2e0-475a-9e56-8c9e5398523f",
   "metadata": {},
   "outputs": [
    {
     "name": "stdout",
     "output_type": "stream",
     "text": [
      "dict_values(['Alice', 20, 'A'])\n"
     ]
    }
   ],
   "source": [
    "values = student.values()\n",
    "print(values)"
   ]
  },
  {
   "cell_type": "code",
   "execution_count": 38,
   "id": "a2dac864-3c14-42e0-adff-e8230d7d9193",
   "metadata": {},
   "outputs": [
    {
     "name": "stdout",
     "output_type": "stream",
     "text": [
      "dict_items([('name', 'Alice'), ('age', 20), ('grade', 'A')])\n"
     ]
    }
   ],
   "source": [
    "items = student.items()\n",
    "print(items)"
   ]
  },
  {
   "cell_type": "code",
   "execution_count": null,
   "id": "958a34de-8e09-48a9-aae8-0989f3fc4dae",
   "metadata": {},
   "outputs": [],
   "source": []
  }
 ],
 "metadata": {
  "kernelspec": {
   "display_name": "Python 3 (ipykernel)",
   "language": "python",
   "name": "python3"
  },
  "language_info": {
   "codemirror_mode": {
    "name": "ipython",
    "version": 3
   },
   "file_extension": ".py",
   "mimetype": "text/x-python",
   "name": "python",
   "nbconvert_exporter": "python",
   "pygments_lexer": "ipython3",
   "version": "3.12.7"
  }
 },
 "nbformat": 4,
 "nbformat_minor": 5
}
