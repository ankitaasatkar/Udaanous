{
 "cells": [
  {
   "cell_type": "markdown",
   "id": "b5f50b05-6016-4027-b183-2177c060cea7",
   "metadata": {},
   "source": [
    "# Problem : 1"
   ]
  },
  {
   "cell_type": "code",
   "execution_count": 65,
   "id": "24678c4e-a0b5-440a-89ea-7d7e280a22ed",
   "metadata": {},
   "outputs": [
    {
     "data": {
      "text/plain": [
       "1613.5"
      ]
     },
     "execution_count": 65,
     "metadata": {},
     "output_type": "execute_result"
    }
   ],
   "source": [
    "P = 1000  # Principal amount in dollars\n",
    "r = 0.08  # Annual interest rate (5%)\n",
    "t = 6     # Time in years\n",
    "n = 12    # Compounded monthly\n",
    "\n",
    "def calculate_compound_interest(P, r, t, n):\n",
    "    final_amount = P * (1 + r/n) ** (n*t)\n",
    "    return final_amount\n",
    "\n",
    "round(calculate_compound_interest(1000, 0.08, 6, 12),2)"
   ]
  },
  {
   "cell_type": "markdown",
   "id": "c1be2346-3902-40f9-b00c-f7f1ffbfff59",
   "metadata": {},
   "source": [
    "## Problem :2 "
   ]
  },
  {
   "cell_type": "code",
   "execution_count": 67,
   "id": "1b918b05-df65-42fa-92f3-70c77edb59ed",
   "metadata": {},
   "outputs": [
    {
     "data": {
      "text/plain": [
       "5206.94"
      ]
     },
     "execution_count": 67,
     "metadata": {},
     "output_type": "execute_result"
    }
   ],
   "source": [
    "principal = 600000  # Loan amount in dollars\n",
    "annual_rate = 8.5   # Annual interest rate (7.5%)\n",
    "tenure = 20         # Loan tenure in years\n",
    "\n",
    "def calculate_emi(P, r, n):\n",
    "    monthly_rate = (annual_rate/100)/12\n",
    "    total_months = tenure * 12\n",
    "    emi_amount = (P * monthly_rate * ((1 + monthly_rate) ** total_months)) / (((1 + monthly_rate) ** total_months) - 1)\n",
    "    return emi_amount\n",
    "\n",
    "round(calculate_emi(600000, 8.5, 20),2)"
   ]
  },
  {
   "cell_type": "markdown",
   "id": "e99ad804-69d6-47f3-aaae-dc44e584d0d6",
   "metadata": {},
   "source": [
    "## Problem : 3"
   ]
  },
  {
   "cell_type": "code",
   "execution_count": 25,
   "id": "2c407de2-166d-4277-8461-c2526bd0b723",
   "metadata": {},
   "outputs": [
    {
     "data": {
      "text/plain": [
       "(29.387755102040817, 'High weight')"
      ]
     },
     "execution_count": 25,
     "metadata": {},
     "output_type": "execute_result"
    }
   ],
   "source": [
    "weight = 80  # Weight in kilograms\n",
    "height = 1.80  # Height in meters\n",
    "\n",
    "def calculate_bmi(weight, height):\n",
    "    bmi = weight / (height ** 2)\n",
    "    if bmi < 18.5:\n",
    "        assessment = \"Low weight\"\n",
    "    elif 18.5 <= bmi < 25:\n",
    "        assessment = \"Normal weight\"\n",
    "    elif 25 <= bmi < 30:\n",
    "        assessment = \"High weight\"\n",
    "    else:\n",
    "        assessment = \"Obesity\"\n",
    "    return bmi, assessment\n",
    "\n",
    "calculate_bmi(90, 1.75)"
   ]
  },
  {
   "cell_type": "markdown",
   "id": "9b16ada5-d3f6-42f7-b723-aaf63df863b6",
   "metadata": {},
   "source": []
  },
  {
   "cell_type": "markdown",
   "id": "6e6ffcdd-22e1-4c42-a5ac-a80608985296",
   "metadata": {},
   "source": [
    "# class and objects\n"
   ]
  },
  {
   "cell_type": "markdown",
   "id": "78a6fe76-be71-403c-bdd9-7eb368a272ca",
   "metadata": {},
   "source": [
    "## Problem:\n"
   ]
  },
  {
   "cell_type": "raw",
   "id": "965e4c38-8dff-4371-ab1e-893ced1522ff",
   "metadata": {},
   "source": [
    "Imagine you are managing a small library and need a system to track books and their availability. Each book has details like the title, author, and availability status (whether it’s borrowed or not). You want to build a system that allows:\n",
    "Adding books to the library.\n",
    "Checking if a book is available\n",
    "Borrowing a book (marking it as borrowed).\n",
    "Returning a book (marking it as available).\n",
    "You will solve this using classes and objects"
   ]
  },
  {
   "cell_type": "code",
   "execution_count": 123,
   "id": "cff05987-6126-4b22-b239-fe88e78bd14e",
   "metadata": {},
   "outputs": [],
   "source": [
    "class Book:\n",
    "    def __init__(self, title, author):\n",
    "        self.title = title\n",
    "        self. author = author\n",
    "        self.is_available = True\n",
    "    def borrow(self):\n",
    "        if self.is_available:\n",
    "            self.is_available = False\n",
    "            return f\"You have borrowed '{self.title}'.\"\n",
    "        else:\n",
    "            return f\"Sorry, '{self.title}' is already borrowed.\"\n",
    "    def return_book(self):\n",
    "        if not self.is_available:\n",
    "            self.is_available = True \n",
    "            return f\"'{self.title}' has been returned. Thank you!\"\n",
    "        else:\n",
    "            return f\"{self.title}' is already in the library.\"\n",
    "    def check_availability(self):\n",
    "        return f\"'{self.title}' is {'available' if self.is_available else 'not available'}\""
   ]
  },
  {
   "cell_type": "code",
   "execution_count": 125,
   "id": "b8adb36c-b89c-4674-940a-783e04be201c",
   "metadata": {},
   "outputs": [],
   "source": [
    "library = Book(\"The Great Gatsby\", \"F. Scott Fitzgerald\")\n"
   ]
  },
  {
   "cell_type": "code",
   "execution_count": 127,
   "id": "35bff773-71a3-4f8c-8b10-a6ea38f1eff0",
   "metadata": {},
   "outputs": [
    {
     "name": "stdout",
     "output_type": "stream",
     "text": [
      "'The Great Gatsby' is available\n"
     ]
    }
   ],
   "source": [
    "print(library.check_availability())"
   ]
  },
  {
   "cell_type": "code",
   "execution_count": 129,
   "id": "107be18d-8b7e-4ea4-a358-64608175090e",
   "metadata": {},
   "outputs": [
    {
     "name": "stdout",
     "output_type": "stream",
     "text": [
      "You have borrowed 'The Great Gatsby'.\n"
     ]
    }
   ],
   "source": [
    "print(library.borrow())"
   ]
  },
  {
   "cell_type": "code",
   "execution_count": 131,
   "id": "b1b81349-7354-4c1c-b0c8-4072e9f4d306",
   "metadata": {},
   "outputs": [
    {
     "name": "stdout",
     "output_type": "stream",
     "text": [
      "'The Great Gatsby' is not available\n"
     ]
    }
   ],
   "source": [
    "print(library.check_availability())"
   ]
  },
  {
   "cell_type": "code",
   "execution_count": 133,
   "id": "cb93abfe-78dc-40df-b3c4-c38445999042",
   "metadata": {},
   "outputs": [
    {
     "name": "stdout",
     "output_type": "stream",
     "text": [
      "'The Great Gatsby' has been returned. Thank you!\n"
     ]
    }
   ],
   "source": [
    "print(library.return_book())"
   ]
  },
  {
   "cell_type": "code",
   "execution_count": 135,
   "id": "af77d8ab-b39c-4297-8c9f-d64851d8af8b",
   "metadata": {},
   "outputs": [
    {
     "name": "stdout",
     "output_type": "stream",
     "text": [
      "'The Great Gatsby' is available\n"
     ]
    }
   ],
   "source": [
    "print(library.check_availability())"
   ]
  },
  {
   "cell_type": "code",
   "execution_count": 137,
   "id": "75051d9c-7dfb-4d52-8733-cc6080a9905f",
   "metadata": {},
   "outputs": [
    {
     "name": "stdout",
     "output_type": "stream",
     "text": [
      "The Great Gatsby' is already in the library.\n"
     ]
    }
   ],
   "source": [
    "print(library.return_book())"
   ]
  },
  {
   "cell_type": "code",
   "execution_count": 139,
   "id": "348730a5-8d02-4486-95d8-3262d00ad3f3",
   "metadata": {},
   "outputs": [
    {
     "name": "stdin",
     "output_type": "stream",
     "text": [
      "Enter the numerator:  20\n",
      "Enter the denominator:  5\n"
     ]
    },
    {
     "name": "stdout",
     "output_type": "stream",
     "text": [
      "Success! 4.0\n"
     ]
    }
   ],
   "source": [
    "try:\n",
    "    num1 = float(input(\"Enter the numerator: \"))\n",
    "    num2 = float(input(\"Enter the denominator: \"))\n",
    "    result = num1 / num2\n",
    "except ZeroDivisionError:\n",
    "    print(\"Division by zero is not allowed.\")\n",
    "except ValueError:\n",
    "    print(\"Invalid input. Please enter numeric values.\")\n",
    "else:\n",
    "    print(\"Success!\", result)"
   ]
  },
  {
   "cell_type": "code",
   "execution_count": 234,
   "id": "1586879a-bf77-4f06-a605-a801a050b9e5",
   "metadata": {},
   "outputs": [],
   "source": [
    "class Book:\n",
    "    def __init__(self, title, author):\n",
    "        self.title = title\n",
    "        \n",
    "\n",
    "    def borrow(self):\n",
    "        if not self.is_borrowed:\n",
    "            self.is_borrowed = True\n",
    "            print(f\"You have borrowed '{self.title}'.\")\n",
    "        else:\n",
    "            print(f\"Sorry, '{self.title}' is already borrowed.\")\n",
    "\n",
    "    def return_book(self):\n",
    "        if self.is_borrowed:\n",
    "            self.is_borrowed = False\n",
    "            print(f\"You have returned '{self.title}'.\")\n",
    "        else:\n",
    "            print(f\"'{self.title}' was not borrowed.\")\n",
    "\n",
    "    def is_available(self):\n",
    "        return not self.is_borrowed\n",
    "\n",
    "\n"
   ]
  },
  {
   "cell_type": "code",
   "execution_count": 274,
   "id": "33f7095a-1d48-4609-878e-29c59e60037e",
   "metadata": {},
   "outputs": [],
   "source": [
    "class Library:\n",
    "    def __init__(self):\n",
    "        self.books = []\n",
    "\n",
    "    def add_book(self, title, author):\n",
    "        book = Book(title, author)\n",
    "        self.books.append(book)\n",
    "        print(f\"Added '{title}' by {author} to the library.\")\n",
    "\n",
    "    def find_book(self, title):\n",
    "        for book in self.books:\n",
    "            if book.title.lower() == title.lower():\n",
    "                return book\n",
    "        return None\n",
    "\n",
    "    def check_availability(self, title):\n",
    "        book = self.find_book(title)\n",
    "        if book:\n",
    "            if book.is_available():\n",
    "                print(f\"'{book.title}' is available.\")\n",
    "            else:\n",
    "                print(f\"'{book.title}' is currently borrowed.\")\n",
    "        else:\n",
    "            print(f\"Book titled '{title}' not found in the library.\")\n",
    "\n",
    "    def borrow_book(self, title):\n",
    "        book = self.find_book(title)\n",
    "        if book:\n",
    "            book.borrow()\n",
    "        else:\n",
    "            print(f\"Book titled '{title}' not found in the library.\")\n",
    "\n",
    "    def return_book(self, title):\n",
    "        book = self.find_book(title)\n",
    "        if book:\n",
    "            book.return_book()\n",
    "        else:\n",
    "            print(f\"Book titled '{title}' not found in the library.\")\n",
    "\n"
   ]
  },
  {
   "cell_type": "code",
   "execution_count": 276,
   "id": "8e0f4f8c-6caf-416a-9e6c-dddef7d9f74a",
   "metadata": {},
   "outputs": [
    {
     "name": "stdout",
     "output_type": "stream",
     "text": [
      "Added '1984' by George Orwell to the library.\n",
      "Added 'To Kill a Mockingbird' by Harper Lee to the library.\n",
      "Added 'The Great Gatsby' by F. Scott Fitzgerald to the library.\n",
      "Added 'The Hobbit' by J.R.R. Tolkien to the library.\n"
     ]
    }
   ],
   "source": [
    "library.add_book(\"1984\", \"George Orwell\")\n",
    "library.add_book(\"To Kill a Mockingbird\", \"Harper Lee\")\n",
    "library.add_book(\"The Great Gatsby\", \"F. Scott Fitzgerald\")\n",
    "library.add_book(\"The Hobbit\", \"J.R.R. Tolkien\")"
   ]
  },
  {
   "cell_type": "code",
   "execution_count": 285,
   "id": "ca65f7d4-e7e6-492e-8d08-08452b91d080",
   "metadata": {},
   "outputs": [],
   "source": [
    "class Book:\n",
    "    def __init__(self, title, author):\n",
    "        self.title = title\n",
    "        self.author = author\n",
    "        self.is_borrowed = False\n",
    "\n",
    "    def borrow(self):\n",
    "        if not self.is_borrowed:\n",
    "            self.is_borrowed = True\n",
    "            print(f\"You have borrowed '{self.title}'.\")\n",
    "        else:\n",
    "            print(f\"Sorry, '{self.title}' is already borrowed.\")\n",
    "\n",
    "    def return_book(self):\n",
    "        if self.is_borrowed:\n",
    "            self.is_borrowed = False\n",
    "            print(f\"You have returned '{self.title}'.\")\n",
    "        else:\n",
    "            print(f\"'{self.title}' was not borrowed.\")\n",
    "\n",
    "    def is_available(self):\n",
    "        return not self.is_borrowed\n",
    "\n"
   ]
  },
  {
   "cell_type": "code",
   "execution_count": 291,
   "id": "064dc9ab-25ce-47c3-b3f8-7cb88c76e21a",
   "metadata": {},
   "outputs": [],
   "source": [
    "class Library:\n",
    "    def __init__(self):\n",
    "        self.books = []\n",
    "\n",
    "    def add_book(self, title, author):\n",
    "        book = Book(title, author)\n",
    "        self.books.append(book)\n",
    "        print(f\"Added '{title}' by {author} to the library.\")\n",
    "\n",
    "    def find_book(self, title):\n",
    "        for book in self.books:\n",
    "            if book.title.lower() == title.lower():\n",
    "                return book\n",
    "        return None\n",
    "\n",
    "    def check_availability(self, title):\n",
    "        book = self.find_book(title)\n",
    "        if book:\n",
    "            if book.is_available():\n",
    "                print(f\"'{book.title}' is available.\")\n",
    "            else:\n",
    "                print(f\"'{book.title}' is currently borrowed.\")\n",
    "        else:\n",
    "            print(f\"Book titled '{title}' not found in the library.\")\n",
    "\n",
    "    def borrow_book(self, title):\n",
    "        book = self.find_book(title)\n",
    "        if book:\n",
    "            book.borrow()\n",
    "        else:\n",
    "            print(f\"Book titled '{title}' not found in the library.\")\n"
   ]
  },
  {
   "cell_type": "code",
   "execution_count": 297,
   "id": "f10a90ce-e472-4aa0-ba56-9c9f3b9e5e0e",
   "metadata": {},
   "outputs": [
    {
     "name": "stdout",
     "output_type": "stream",
     "text": [
      "Added '1984' by George Orwell to the library.\n",
      "Added 'To Kill a Mockingbird' by Harper Lee to the library.\n"
     ]
    }
   ],
   "source": [
    "library = Library()\n",
    "library.add_book(\"1984\", \"George Orwell\")\n",
    "library.add_book(\"To Kill a Mockingbird\", \"Harper Lee\")"
   ]
  },
  {
   "cell_type": "code",
   "execution_count": 301,
   "id": "f841d0f5-62c8-4fdf-8c1a-c72215006d4b",
   "metadata": {},
   "outputs": [
    {
     "name": "stdout",
     "output_type": "stream",
     "text": [
      "Added '1984' by George Orwell to the library.\n",
      "Added 'To Kill a Mockingbird' by Harper Lee to the library.\n"
     ]
    }
   ],
   "source": [
    "library = Library()\n",
    "library.add_book(\"1984\", \"George Orwell\")\n",
    "library.add_book(\"To Kill a Mockingbird\", \"Harper Lee\")\n",
    "\n"
   ]
  },
  {
   "cell_type": "code",
   "execution_count": 307,
   "id": "c90c58b9-3ba2-4a40-bdc7-009f51646819",
   "metadata": {},
   "outputs": [
    {
     "name": "stdout",
     "output_type": "stream",
     "text": [
      "Added '1984' by George Orwell to the library.\n",
      "Added 'To Kill a Mockingbird' by Harper Lee to the library.\n",
      "'1984' is available.\n",
      "You have borrowed '1984'.\n",
      "'1984' is currently borrowed.\n",
      "'To Kill a Mockingbird' is available.\n"
     ]
    }
   ],
   "source": [
    "library = Library()\n",
    "library.add_book(\"1984\", \"George Orwell\")\n",
    "library.add_book(\"To Kill a Mockingbird\", \"Harper Lee\")\n",
    "\n",
    "library.check_availability(\"1984\")\n",
    "library.borrow_book(\"1984\")\n",
    "library.check_availability(\"1984\")\n",
    "library.check_availability(\"To Kill a Mockingbird\")\n"
   ]
  },
  {
   "cell_type": "code",
   "execution_count": null,
   "id": "4245d595-1ec5-40b8-a169-102a1950fdf5",
   "metadata": {},
   "outputs": [],
   "source": []
  }
 ],
 "metadata": {
  "kernelspec": {
   "display_name": "Python 3 (ipykernel)",
   "language": "python",
   "name": "python3"
  },
  "language_info": {
   "codemirror_mode": {
    "name": "ipython",
    "version": 3
   },
   "file_extension": ".py",
   "mimetype": "text/x-python",
   "name": "python",
   "nbconvert_exporter": "python",
   "pygments_lexer": "ipython3",
   "version": "3.12.7"
  }
 },
 "nbformat": 4,
 "nbformat_minor": 5
}
