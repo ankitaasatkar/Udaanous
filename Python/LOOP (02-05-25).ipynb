{
 "cells": [
  {
   "cell_type": "markdown",
   "id": "f379f1bf-9419-4784-bc8b-b7131eb33c2e",
   "metadata": {},
   "source": [
    "## For-loop "
   ]
  },
  {
   "cell_type": "markdown",
   "id": "74c5c72b-9292-49b3-b2fe-f19be7c97987",
   "metadata": {},
   "source": [
    "## Problem 1: Write a program to iterate through a list of names and print each name along with a message saying \"Welcome to the team!\". The list of names is given as:  Employees = [\"HR\",\"SALES\",\"Employee\",\"Finence\"]\n"
   ]
  },
  {
   "cell_type": "code",
   "execution_count": 20,
   "id": "77b0792b-a500-407c-9c9b-e8ce738436e6",
   "metadata": {},
   "outputs": [
    {
     "name": "stdout",
     "output_type": "stream",
     "text": [
      "HR\n",
      "SALES\n",
      "Employee\n",
      "Finence\n"
     ]
    }
   ],
   "source": [
    "Employees = [\"HR\",\"SALES\",\"Employee\",\"Finence\"]\n",
    "for Employee in Employees:\n",
    "    print(Employee)"
   ]
  },
  {
   "cell_type": "code",
   "execution_count": 46,
   "id": "399d176d-a0ea-4368-b83f-304c54a5b413",
   "metadata": {},
   "outputs": [
    {
     "name": "stdout",
     "output_type": "stream",
     "text": [
      "Rahul\n",
      "Pranay\n",
      "akash\n",
      "Rohit\n"
     ]
    }
   ],
   "source": [
    "Members = [\"Rahul\",\"Pranay\",\"akash\",\"Rohit\"]\n",
    "\n",
    "for Member in Members:\n",
    "    print(Member)"
   ]
  },
  {
   "cell_type": "markdown",
   "id": "a261badf-fbd3-448d-bbd2-2d2898ab1ad0",
   "metadata": {},
   "source": [
    "## Problem 2:\n",
    "## Write a program to iterate through a list of tasks and print each task with its corresponding index number, starting from 1. The list of tasks is:\n",
    "## tasks = [\"Wash the dishesh\", \"Clean the room\", \"Do the Work\", \"Make dinner\"]\n"
   ]
  },
  {
   "cell_type": "code",
   "execution_count": 30,
   "id": "78c9f7c9-1bb4-46f9-b26d-20a054524606",
   "metadata": {},
   "outputs": [
    {
     "name": "stdout",
     "output_type": "stream",
     "text": [
      "Task 1: Wash the dishesh\n",
      "Task 2: Clean the room\n",
      "Task 3: Do the Work\n",
      "Task 4: Make dinner\n"
     ]
    }
   ],
   "source": [
    "tasks = [\"Wash the dishesh\", \"Clean the room\", \"Do the Work\", \"Make dinner\"]\n",
    "for index, task in enumerate(tasks, start = 1):\n",
    "    print(f\"Task {index}: {task}\")"
   ]
  },
  {
   "cell_type": "markdown",
   "id": "37fdac2a-df16-4789-bdd2-2d8ad9dc8599",
   "metadata": {},
   "source": [
    "#### Problem 3:\n",
    "\n",
    "## Write a program to create a list of even numbers between 2 and 10 (inclusive) using a while-loop. Start with an empty list and append each even number to the list during each iteration."
   ]
  },
  {
   "cell_type": "code",
   "execution_count": 35,
   "id": "6fbc9216-55dc-4109-9e38-429c55728d45",
   "metadata": {},
   "outputs": [
    {
     "name": "stdout",
     "output_type": "stream",
     "text": [
      "[4, 6, 8, 10, 12, 14, 16, 18]\n"
     ]
    }
   ],
   "source": [
    "even_numbers = []\n",
    "num = 2\n",
    "\n",
    "while num <= 10:\n",
    "    even_numbers.append(num)\n",
    "    num += 2\n",
    "\n",
    "print(even_numbers)"
   ]
  },
  {
   "cell_type": "code",
   "execution_count": 50,
   "id": "d80c45fe-01db-4b3e-9d9b-80e5dc65e3c9",
   "metadata": {},
   "outputs": [
    {
     "name": "stdout",
     "output_type": "stream",
     "text": [
      "[4, 6, 8, 10, 12, 14, 16, 18]\n"
     ]
    }
   ],
   "source": [
    "even_number = []\n",
    "num = 4\n",
    "while num >= 20:\n",
    "    even_number.append(num)\n",
    "    num += 2\n",
    "\n",
    "print(even_numbers)"
   ]
  },
  {
   "cell_type": "markdown",
   "id": "d18b2494-0f30-4f3c-a834-bd9121911548",
   "metadata": {},
   "source": [
    "#### Problem 4:\n",
    "\n",
    "## **Write a program to classify a list of numbers into positive, negative, or zero. Use a for-loop to iterate through the numbers and check each one using if, elif, and else conditions.**\n",
    "\n",
    "## The list of numbers is: [12, -8, 0, 24, -8, 0, 18, -4]"
   ]
  },
  {
   "cell_type": "code",
   "execution_count": 89,
   "id": "fda6d5c2-d949-4dd8-82c7-843d3c4c5314",
   "metadata": {},
   "outputs": [
    {
     "name": "stdout",
     "output_type": "stream",
     "text": [
      "12: Positive number\n",
      "-8: Negative number\n",
      "0: zero\n",
      "24: Positive number\n",
      "-8: Negative number\n",
      "0: zero\n",
      "18: Positive number\n",
      "-4: Negative number\n"
     ]
    }
   ],
   "source": [
    "numbers = [12, -8, 0, 24, -8, 0, 18, -4]\n",
    "\n",
    "for num in numbers:\n",
    "    if num > 0:\n",
    "        print(f\"{num}: Positive number\")\n",
    "    elif num < 0:\n",
    "        print(f\"{num}: Negative number\")\n",
    "    else:\n",
    "        print(f\"{num}: zero\")"
   ]
  },
  {
   "cell_type": "markdown",
   "id": "4e0565d1-7552-48af-a5be-57e0f518aa96",
   "metadata": {},
   "source": [
    "## Enumerate() in For-loop"
   ]
  },
  {
   "cell_type": "code",
   "execution_count": 91,
   "id": "ad1ae21c-b749-4397-b3aa-ec59ec2398ac",
   "metadata": {},
   "outputs": [
    {
     "name": "stdout",
     "output_type": "stream",
     "text": [
      "0, Name:Rahul\n",
      "1, Name:Pranay\n",
      "2, Name:akash\n",
      "3, Name:Rohit\n"
     ]
    }
   ],
   "source": [
    "Names = [\"Rahul\",\"Pranay\",\"akash\",\"Rohit\"]\n",
    "\n",
    "for index, Name in enumerate (Names):\n",
    "    \n",
    "    print(f\"{index}, Name:{Name}\")"
   ]
  },
  {
   "cell_type": "code",
   "execution_count": null,
   "id": "222c9d8d-446d-4a43-a290-6fbc8064de85",
   "metadata": {},
   "outputs": [],
   "source": []
  }
 ],
 "metadata": {
  "kernelspec": {
   "display_name": "Python 3 (ipykernel)",
   "language": "python",
   "name": "python3"
  },
  "language_info": {
   "codemirror_mode": {
    "name": "ipython",
    "version": 3
   },
   "file_extension": ".py",
   "mimetype": "text/x-python",
   "name": "python",
   "nbconvert_exporter": "python",
   "pygments_lexer": "ipython3",
   "version": "3.12.7"
  }
 },
 "nbformat": 4,
 "nbformat_minor": 5
}
