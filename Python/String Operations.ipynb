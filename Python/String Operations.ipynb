{
 "cells": [
  {
   "cell_type": "markdown",
   "id": "335a6f4a-f7ba-4267-85bb-bd5d5748b0bb",
   "metadata": {},
   "source": [
    " ## Forward Indexing"
   ]
  },
  {
   "cell_type": "code",
   "execution_count": 15,
   "id": "3ce3cbd5-5be0-475a-9e19-6e7751a983d5",
   "metadata": {},
   "outputs": [
    {
     "name": "stdout",
     "output_type": "stream",
     "text": [
      "Y\n",
      "O\n"
     ]
    }
   ],
   "source": [
    "my_string=\"PYTHON\"\n",
    "print(python[1])\n",
    "print(python[4])"
   ]
  },
  {
   "cell_type": "markdown",
   "id": "01395c7b-7ef8-4122-8791-b4167f17ceb3",
   "metadata": {},
   "source": [
    "## Backward Indexing"
   ]
  },
  {
   "cell_type": "code",
   "execution_count": 41,
   "id": "9c9ee420-86e8-466c-9156-87455ec5566b",
   "metadata": {},
   "outputs": [
    {
     "name": "stdout",
     "output_type": "stream",
     "text": [
      "O\n",
      "T\n"
     ]
    }
   ],
   "source": [
    "my_string = \"PYTHON\"\n",
    "print(python[-2])\n",
    "print(python[-4])"
   ]
  },
  {
   "cell_type": "markdown",
   "id": "c1d569f1-674e-409c-a52f-4a6319746c2c",
   "metadata": {},
   "source": [
    "## Slicing Method for Strings"
   ]
  },
  {
   "cell_type": "code",
   "execution_count": 58,
   "id": "fab79557-6413-46c2-8e9d-0f1b6fd42fe3",
   "metadata": {},
   "outputs": [
    {
     "name": "stdout",
     "output_type": "stream",
     "text": [
      "SCIENC\n"
     ]
    }
   ],
   "source": [
    "my_string = \"SCIENCE\"\n",
    "sliced = my_string[0:6]\n",
    "print(sliced)\n"
   ]
  },
  {
   "cell_type": "markdown",
   "id": "be0325b5-8e41-426f-ba79-0786148dd4a7",
   "metadata": {},
   "source": [
    "## Striding Method for String"
   ]
  },
  {
   "cell_type": "code",
   "execution_count": 61,
   "id": "162e3fe0-550d-4855-beed-7cae760a6574",
   "metadata": {},
   "outputs": [
    {
     "name": "stdout",
     "output_type": "stream",
     "text": [
      "DVLPET\n"
     ]
    }
   ],
   "source": [
    "my_string =\"DEVELOPMENT\"\n",
    "strided = my_string[0:12:2]\n",
    "print(strided)"
   ]
  },
  {
   "cell_type": "markdown",
   "id": "80e60500-3fdc-4140-9c22-c7d407f28699",
   "metadata": {},
   "source": [
    "## Len() Function for Strings"
   ]
  },
  {
   "cell_type": "code",
   "execution_count": 66,
   "id": "3d28f7ed-2425-4b91-beae-93dc1d607e64",
   "metadata": {},
   "outputs": [
    {
     "name": "stdout",
     "output_type": "stream",
     "text": [
      "7\n"
     ]
    }
   ],
   "source": [
    "my_string = \"SCIENCE\"\n",
    "print(len(my_string))"
   ]
  },
  {
   "cell_type": "markdown",
   "id": "594e5302-16e1-43ac-a5e9-8433f1f75040",
   "metadata": {},
   "source": [
    "## Concatenation of String"
   ]
  },
  {
   "cell_type": "code",
   "execution_count": 71,
   "id": "b7a1c677-9dc2-499d-9df1-ecaf167b5a71",
   "metadata": {},
   "outputs": [
    {
     "name": "stdout",
     "output_type": "stream",
     "text": [
      "Hello India\n"
     ]
    }
   ],
   "source": [
    "string1 = \"Hello\"\n",
    "string2 = \"India\"\n",
    "result = string1+\" \"+string2\n",
    "print(result)\n",
    "\n"
   ]
  },
  {
   "cell_type": "markdown",
   "id": "995f32c4-a2e8-4055-95f4-9f343ed4dcfe",
   "metadata": {},
   "source": [
    "## Escape Sequence in Strings"
   ]
  },
  {
   "cell_type": "code",
   "execution_count": 74,
   "id": "88463f57-111c-4f1c-bf38-ca3f8f311ef8",
   "metadata": {},
   "outputs": [
    {
     "name": "stdout",
     "output_type": "stream",
     "text": [
      "Hello\n",
      "India\n",
      "Science\tsubject\n"
     ]
    }
   ],
   "source": [
    "print(\"Hello\\nIndia\")\n",
    "print(\"Science\\tsubject\")"
   ]
  },
  {
   "cell_type": "markdown",
   "id": "b20fb7f7-0812-470b-b150-166977ea667a",
   "metadata": {},
   "source": [
    "## Upper() & Lower() for String"
   ]
  },
  {
   "cell_type": "code",
   "execution_count": 77,
   "id": "60598010-7a23-4636-abe8-c9667d4ebdff",
   "metadata": {},
   "outputs": [
    {
     "name": "stdout",
     "output_type": "stream",
     "text": [
      "PYTHON\n",
      "python\n"
     ]
    }
   ],
   "source": [
    "my_string = \"PYTHON\"\n",
    "print(my_string.upper())\n",
    "print(my_string.lower())"
   ]
  },
  {
   "cell_type": "markdown",
   "id": "e223abf1-13cb-4c31-b484-0096614d9a17",
   "metadata": {},
   "source": [
    "## Replace() Function for String"
   ]
  },
  {
   "cell_type": "code",
   "execution_count": 91,
   "id": "c25e8865-98f8-46c1-a6c3-018640933616",
   "metadata": {},
   "outputs": [
    {
     "name": "stdout",
     "output_type": "stream",
     "text": [
      "I LOVE PYTHON\n"
     ]
    }
   ],
   "source": [
    "my_string =\"I LOVE INDIA\"\n",
    "Replaced = my_string.replace(\"INDIA\",\"PYTHON\")\n",
    "print(Replaced)"
   ]
  },
  {
   "cell_type": "code",
   "execution_count": null,
   "id": "0b68863b-a133-4c12-a7ff-c763c9641f50",
   "metadata": {},
   "outputs": [],
   "source": []
  }
 ],
 "metadata": {
  "kernelspec": {
   "display_name": "Python 3 (ipykernel)",
   "language": "python",
   "name": "python3"
  },
  "language_info": {
   "codemirror_mode": {
    "name": "ipython",
    "version": 3
   },
   "file_extension": ".py",
   "mimetype": "text/x-python",
   "name": "python",
   "nbconvert_exporter": "python",
   "pygments_lexer": "ipython3",
   "version": "3.12.7"
  }
 },
 "nbformat": 4,
 "nbformat_minor": 5
}
